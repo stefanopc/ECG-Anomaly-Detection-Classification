{
  "nbformat": 4,
  "nbformat_minor": 0,
  "metadata": {
    "colab": {
      "provenance": []
    },
    "kernelspec": {
      "name": "python3",
      "display_name": "Python 3"
    },
    "language_info": {
      "name": "python"
    }
  },
  "cells": [
    {
      "cell_type": "markdown",
      "source": [
        "### **Project work for the course Artificial Intelligence in Industry at University of Bologna - Master's degree in Artificial Intelligence**\n",
        "\n",
        "#### Stefano Poggi Cavalletti - 0000982439"
      ],
      "metadata": {
        "id": "IYhWC6gOv9j5"
      }
    },
    {
      "cell_type": "markdown",
      "source": [
        "### **Classification of ECG signals**"
      ],
      "metadata": {
        "id": "zipGDapkwElm"
      }
    },
    {
      "cell_type": "markdown",
      "source": [
        "The aim of this project is to perform a classification task on health data related to ECG signals, which are recordings of the heart's electrical activity. To perform this task, we will use an available dataset which contains ECG data of real patients: ECG5000. "
      ],
      "metadata": {
        "id": "AO0P-Ptk3CPy"
      }
    },
    {
      "cell_type": "markdown",
      "source": [
        "The [ECG5000](http://www.timeseriesclassification.com/description.php?Dataset=ECG5000) dataset is available in the UCR Time Series Classification archive and contains a set of 5000 univariate time series with 140 timesteps (T = 140). Each sequence corresponds to a single heartbeat from a single patient. Assuming a healthy heart and a typical rate of 70 to 75 beats per minute, each cardiac cycle, or heartbeat, takes about 0.8 seconds to complete the cycle. The frequency is 60-100 per minute and the duration is 0.6–1 second.\n",
        "\n",
        "Five classes are annotated, corresponding to the following labels: \n",
        "\n",
        "*   Normal (N)\n",
        "*   R-on-T Premature Ventricular Contraction (R-on-T \n",
        "PVC)\n",
        "*   Premature Ventricular Contraction (PVC)\n",
        "*   Supra-ventricular Premature or Ectopic Beat (SP or EB)\n",
        "*   Unclassified Beat (UB)"
      ],
      "metadata": {
        "id": "hRHR2qtf4E8i"
      }
    },
    {
      "cell_type": "code",
      "source": [
        "import os\n",
        "import pandas as pd\n",
        "import numpy as np\n",
        "import matplotlib.pyplot as plt\n",
        "import seaborn as sns\n",
        "\n",
        "import tensorflow as tf\n",
        "from tensorflow import keras\n",
        "from tensorflow.keras import layers\n",
        "from tensorflow.keras.models import Model\n",
        "\n",
        "from sklearn.model_selection import train_test_split\n",
        "from sklearn.metrics import confusion_matrix\n",
        "from sklearn import preprocessing\n",
        "\n",
        "RANDOM_SEED = 42\n",
        "np.random.seed(RANDOM_SEED)"
      ],
      "metadata": {
        "id": "AWdDUJrH4OUw"
      },
      "execution_count": 1,
      "outputs": []
    },
    {
      "cell_type": "code",
      "source": [
        "# Import the dataset files\n",
        "\n",
        "ecg_train_file = 'ECG5000_TRAIN.csv'\n",
        "ecg_test_file = 'ECG5000_TEST.csv'\n",
        "\n",
        "train_data = pd.read_csv(ecg_train_file)\n",
        "test_data = pd.read_csv(ecg_test_file)\n",
        "\n",
        "df_train = pd.DataFrame(train_data)\n",
        "df_test = pd.DataFrame(test_data)"
      ],
      "metadata": {
        "id": "6Y3Jps26QWzB"
      },
      "execution_count": 2,
      "outputs": []
    },
    {
      "cell_type": "code",
      "source": [
        "df = pd.concat([df_train, df_test], ignore_index=True)"
      ],
      "metadata": {
        "id": "c_vl0AtdQYkg"
      },
      "execution_count": 3,
      "outputs": []
    },
    {
      "cell_type": "code",
      "source": [
        "# 140 timesteps + target\n",
        "new_columns = list(df.columns)\n",
        "new_columns[0] = 'target'\n",
        "df.columns = new_columns"
      ],
      "metadata": {
        "id": "JBM_nu8nQbEa"
      },
      "execution_count": 22,
      "outputs": []
    },
    {
      "cell_type": "code",
      "source": [
        "df['target'] = df[df.columns[-1]]\n",
        "del df[df.columns[-1]]"
      ],
      "metadata": {
        "id": "wWb5moONQcbR"
      },
      "execution_count": 23,
      "outputs": []
    },
    {
      "cell_type": "code",
      "source": [
        "df"
      ],
      "metadata": {
        "colab": {
          "base_uri": "https://localhost:8080/",
          "height": 483
        },
        "id": "VmKFlwJqomjf",
        "outputId": "572386bf-ff4e-4aee-e70b-74213bcd32a2"
      },
      "execution_count": 8,
      "outputs": [
        {
          "output_type": "execute_result",
          "data": {
            "text/plain": [
              "      target        t1        t2        t3        t4        t5        t6  \\\n",
              "0          1 -0.112522 -2.827204 -3.773897 -4.349751 -4.376041 -3.474986   \n",
              "1          1 -1.100878 -3.996840 -4.285843 -4.506579 -4.022377 -3.234368   \n",
              "2          1 -0.567088 -2.593450 -3.874230 -4.584095 -4.187449 -3.151462   \n",
              "3          1  0.490473 -1.914407 -3.616364 -4.318823 -4.268016 -3.881110   \n",
              "4          1  0.800232 -0.874252 -2.384761 -3.973292 -4.338224 -3.802422   \n",
              "...      ...       ...       ...       ...       ...       ...       ...   \n",
              "4995       4 -1.122969 -2.252925 -2.867628 -3.358605 -3.167849 -2.638360   \n",
              "4996       2 -0.547705 -1.889545 -2.839779 -3.457912 -3.929149 -3.966026   \n",
              "4997       2 -1.351779 -2.209006 -2.520225 -3.061475 -3.065141 -3.030739   \n",
              "4998       2 -1.124432 -1.905039 -2.192707 -2.904320 -2.900722 -2.761252   \n",
              "4999       2  0.728813  0.192597 -0.733884 -1.779456 -2.345908 -2.977565   \n",
              "\n",
              "            t7        t8        t9  ...      t131      t132      t133  \\\n",
              "0    -2.181408 -1.818286 -1.250522  ...  0.160348  0.792168  0.933541   \n",
              "1    -1.566126 -0.992258 -0.754680  ...  0.560327  0.538356  0.656881   \n",
              "2    -1.742940 -1.490659 -1.183580  ...  1.284825  0.886073  0.531452   \n",
              "3    -2.993280 -1.671131 -1.333884  ...  0.491173  0.350816  0.499111   \n",
              "4    -2.534510 -1.783423 -1.594450  ...  0.966606  1.148884  0.958434   \n",
              "...        ...       ...       ...  ...       ...       ...       ...   \n",
              "4995 -1.664162 -0.935655 -0.866953  ...  0.205543 -0.472419 -1.310147   \n",
              "4996 -3.492560 -2.695270 -1.849691  ...  1.218185  1.258419  1.907530   \n",
              "4997 -2.622720 -2.044092 -1.295874  ... -0.896575 -1.512234 -2.076075   \n",
              "4998 -2.569705 -2.043893 -1.490538  ... -2.495989 -2.821782 -3.268355   \n",
              "4999 -3.380053 -3.417164 -3.030925  ...  1.219499  1.267275  1.678989   \n",
              "\n",
              "          t134      t135      t136      t137      t138      t139      t140  \n",
              "0     0.796958  0.578621  0.257740  0.228077  0.123431  0.925286  0.193137  \n",
              "1     0.787490  0.724046  0.555784  0.476333  0.773820  1.119621 -1.436250  \n",
              "2     0.311377 -0.021919 -0.713683 -0.532197  0.321097  0.904227 -0.421797  \n",
              "3     0.600345  0.842069  0.952074  0.990133  1.086798  1.403011 -0.383564  \n",
              "4     1.059025  1.371682  1.277392  0.960304  0.971020  1.614392  1.421456  \n",
              "...        ...       ...       ...       ...       ...       ...       ...  \n",
              "4995 -2.029521 -3.221294 -4.176790 -4.009720 -2.874136 -2.008369 -1.808334  \n",
              "4996  2.280888  1.895242  1.437702  1.193433  1.261335  1.150449  0.804932  \n",
              "4997 -2.586042 -3.322799 -3.627311 -3.437038 -2.260023 -1.577823 -0.684531  \n",
              "4998 -3.634981 -3.168765 -2.245878 -1.262260 -0.443307 -0.559769  0.108568  \n",
              "4999  2.483389  2.569073  2.122891  1.753963  1.538975  1.713781  1.309382  \n",
              "\n",
              "[5000 rows x 141 columns]"
            ],
            "text/html": [
              "\n",
              "  <div id=\"df-8546fa24-992c-4759-b22c-75f78887284e\">\n",
              "    <div class=\"colab-df-container\">\n",
              "      <div>\n",
              "<style scoped>\n",
              "    .dataframe tbody tr th:only-of-type {\n",
              "        vertical-align: middle;\n",
              "    }\n",
              "\n",
              "    .dataframe tbody tr th {\n",
              "        vertical-align: top;\n",
              "    }\n",
              "\n",
              "    .dataframe thead th {\n",
              "        text-align: right;\n",
              "    }\n",
              "</style>\n",
              "<table border=\"1\" class=\"dataframe\">\n",
              "  <thead>\n",
              "    <tr style=\"text-align: right;\">\n",
              "      <th></th>\n",
              "      <th>target</th>\n",
              "      <th>t1</th>\n",
              "      <th>t2</th>\n",
              "      <th>t3</th>\n",
              "      <th>t4</th>\n",
              "      <th>t5</th>\n",
              "      <th>t6</th>\n",
              "      <th>t7</th>\n",
              "      <th>t8</th>\n",
              "      <th>t9</th>\n",
              "      <th>...</th>\n",
              "      <th>t131</th>\n",
              "      <th>t132</th>\n",
              "      <th>t133</th>\n",
              "      <th>t134</th>\n",
              "      <th>t135</th>\n",
              "      <th>t136</th>\n",
              "      <th>t137</th>\n",
              "      <th>t138</th>\n",
              "      <th>t139</th>\n",
              "      <th>t140</th>\n",
              "    </tr>\n",
              "  </thead>\n",
              "  <tbody>\n",
              "    <tr>\n",
              "      <th>0</th>\n",
              "      <td>1</td>\n",
              "      <td>-0.112522</td>\n",
              "      <td>-2.827204</td>\n",
              "      <td>-3.773897</td>\n",
              "      <td>-4.349751</td>\n",
              "      <td>-4.376041</td>\n",
              "      <td>-3.474986</td>\n",
              "      <td>-2.181408</td>\n",
              "      <td>-1.818286</td>\n",
              "      <td>-1.250522</td>\n",
              "      <td>...</td>\n",
              "      <td>0.160348</td>\n",
              "      <td>0.792168</td>\n",
              "      <td>0.933541</td>\n",
              "      <td>0.796958</td>\n",
              "      <td>0.578621</td>\n",
              "      <td>0.257740</td>\n",
              "      <td>0.228077</td>\n",
              "      <td>0.123431</td>\n",
              "      <td>0.925286</td>\n",
              "      <td>0.193137</td>\n",
              "    </tr>\n",
              "    <tr>\n",
              "      <th>1</th>\n",
              "      <td>1</td>\n",
              "      <td>-1.100878</td>\n",
              "      <td>-3.996840</td>\n",
              "      <td>-4.285843</td>\n",
              "      <td>-4.506579</td>\n",
              "      <td>-4.022377</td>\n",
              "      <td>-3.234368</td>\n",
              "      <td>-1.566126</td>\n",
              "      <td>-0.992258</td>\n",
              "      <td>-0.754680</td>\n",
              "      <td>...</td>\n",
              "      <td>0.560327</td>\n",
              "      <td>0.538356</td>\n",
              "      <td>0.656881</td>\n",
              "      <td>0.787490</td>\n",
              "      <td>0.724046</td>\n",
              "      <td>0.555784</td>\n",
              "      <td>0.476333</td>\n",
              "      <td>0.773820</td>\n",
              "      <td>1.119621</td>\n",
              "      <td>-1.436250</td>\n",
              "    </tr>\n",
              "    <tr>\n",
              "      <th>2</th>\n",
              "      <td>1</td>\n",
              "      <td>-0.567088</td>\n",
              "      <td>-2.593450</td>\n",
              "      <td>-3.874230</td>\n",
              "      <td>-4.584095</td>\n",
              "      <td>-4.187449</td>\n",
              "      <td>-3.151462</td>\n",
              "      <td>-1.742940</td>\n",
              "      <td>-1.490659</td>\n",
              "      <td>-1.183580</td>\n",
              "      <td>...</td>\n",
              "      <td>1.284825</td>\n",
              "      <td>0.886073</td>\n",
              "      <td>0.531452</td>\n",
              "      <td>0.311377</td>\n",
              "      <td>-0.021919</td>\n",
              "      <td>-0.713683</td>\n",
              "      <td>-0.532197</td>\n",
              "      <td>0.321097</td>\n",
              "      <td>0.904227</td>\n",
              "      <td>-0.421797</td>\n",
              "    </tr>\n",
              "    <tr>\n",
              "      <th>3</th>\n",
              "      <td>1</td>\n",
              "      <td>0.490473</td>\n",
              "      <td>-1.914407</td>\n",
              "      <td>-3.616364</td>\n",
              "      <td>-4.318823</td>\n",
              "      <td>-4.268016</td>\n",
              "      <td>-3.881110</td>\n",
              "      <td>-2.993280</td>\n",
              "      <td>-1.671131</td>\n",
              "      <td>-1.333884</td>\n",
              "      <td>...</td>\n",
              "      <td>0.491173</td>\n",
              "      <td>0.350816</td>\n",
              "      <td>0.499111</td>\n",
              "      <td>0.600345</td>\n",
              "      <td>0.842069</td>\n",
              "      <td>0.952074</td>\n",
              "      <td>0.990133</td>\n",
              "      <td>1.086798</td>\n",
              "      <td>1.403011</td>\n",
              "      <td>-0.383564</td>\n",
              "    </tr>\n",
              "    <tr>\n",
              "      <th>4</th>\n",
              "      <td>1</td>\n",
              "      <td>0.800232</td>\n",
              "      <td>-0.874252</td>\n",
              "      <td>-2.384761</td>\n",
              "      <td>-3.973292</td>\n",
              "      <td>-4.338224</td>\n",
              "      <td>-3.802422</td>\n",
              "      <td>-2.534510</td>\n",
              "      <td>-1.783423</td>\n",
              "      <td>-1.594450</td>\n",
              "      <td>...</td>\n",
              "      <td>0.966606</td>\n",
              "      <td>1.148884</td>\n",
              "      <td>0.958434</td>\n",
              "      <td>1.059025</td>\n",
              "      <td>1.371682</td>\n",
              "      <td>1.277392</td>\n",
              "      <td>0.960304</td>\n",
              "      <td>0.971020</td>\n",
              "      <td>1.614392</td>\n",
              "      <td>1.421456</td>\n",
              "    </tr>\n",
              "    <tr>\n",
              "      <th>...</th>\n",
              "      <td>...</td>\n",
              "      <td>...</td>\n",
              "      <td>...</td>\n",
              "      <td>...</td>\n",
              "      <td>...</td>\n",
              "      <td>...</td>\n",
              "      <td>...</td>\n",
              "      <td>...</td>\n",
              "      <td>...</td>\n",
              "      <td>...</td>\n",
              "      <td>...</td>\n",
              "      <td>...</td>\n",
              "      <td>...</td>\n",
              "      <td>...</td>\n",
              "      <td>...</td>\n",
              "      <td>...</td>\n",
              "      <td>...</td>\n",
              "      <td>...</td>\n",
              "      <td>...</td>\n",
              "      <td>...</td>\n",
              "      <td>...</td>\n",
              "    </tr>\n",
              "    <tr>\n",
              "      <th>4995</th>\n",
              "      <td>4</td>\n",
              "      <td>-1.122969</td>\n",
              "      <td>-2.252925</td>\n",
              "      <td>-2.867628</td>\n",
              "      <td>-3.358605</td>\n",
              "      <td>-3.167849</td>\n",
              "      <td>-2.638360</td>\n",
              "      <td>-1.664162</td>\n",
              "      <td>-0.935655</td>\n",
              "      <td>-0.866953</td>\n",
              "      <td>...</td>\n",
              "      <td>0.205543</td>\n",
              "      <td>-0.472419</td>\n",
              "      <td>-1.310147</td>\n",
              "      <td>-2.029521</td>\n",
              "      <td>-3.221294</td>\n",
              "      <td>-4.176790</td>\n",
              "      <td>-4.009720</td>\n",
              "      <td>-2.874136</td>\n",
              "      <td>-2.008369</td>\n",
              "      <td>-1.808334</td>\n",
              "    </tr>\n",
              "    <tr>\n",
              "      <th>4996</th>\n",
              "      <td>2</td>\n",
              "      <td>-0.547705</td>\n",
              "      <td>-1.889545</td>\n",
              "      <td>-2.839779</td>\n",
              "      <td>-3.457912</td>\n",
              "      <td>-3.929149</td>\n",
              "      <td>-3.966026</td>\n",
              "      <td>-3.492560</td>\n",
              "      <td>-2.695270</td>\n",
              "      <td>-1.849691</td>\n",
              "      <td>...</td>\n",
              "      <td>1.218185</td>\n",
              "      <td>1.258419</td>\n",
              "      <td>1.907530</td>\n",
              "      <td>2.280888</td>\n",
              "      <td>1.895242</td>\n",
              "      <td>1.437702</td>\n",
              "      <td>1.193433</td>\n",
              "      <td>1.261335</td>\n",
              "      <td>1.150449</td>\n",
              "      <td>0.804932</td>\n",
              "    </tr>\n",
              "    <tr>\n",
              "      <th>4997</th>\n",
              "      <td>2</td>\n",
              "      <td>-1.351779</td>\n",
              "      <td>-2.209006</td>\n",
              "      <td>-2.520225</td>\n",
              "      <td>-3.061475</td>\n",
              "      <td>-3.065141</td>\n",
              "      <td>-3.030739</td>\n",
              "      <td>-2.622720</td>\n",
              "      <td>-2.044092</td>\n",
              "      <td>-1.295874</td>\n",
              "      <td>...</td>\n",
              "      <td>-0.896575</td>\n",
              "      <td>-1.512234</td>\n",
              "      <td>-2.076075</td>\n",
              "      <td>-2.586042</td>\n",
              "      <td>-3.322799</td>\n",
              "      <td>-3.627311</td>\n",
              "      <td>-3.437038</td>\n",
              "      <td>-2.260023</td>\n",
              "      <td>-1.577823</td>\n",
              "      <td>-0.684531</td>\n",
              "    </tr>\n",
              "    <tr>\n",
              "      <th>4998</th>\n",
              "      <td>2</td>\n",
              "      <td>-1.124432</td>\n",
              "      <td>-1.905039</td>\n",
              "      <td>-2.192707</td>\n",
              "      <td>-2.904320</td>\n",
              "      <td>-2.900722</td>\n",
              "      <td>-2.761252</td>\n",
              "      <td>-2.569705</td>\n",
              "      <td>-2.043893</td>\n",
              "      <td>-1.490538</td>\n",
              "      <td>...</td>\n",
              "      <td>-2.495989</td>\n",
              "      <td>-2.821782</td>\n",
              "      <td>-3.268355</td>\n",
              "      <td>-3.634981</td>\n",
              "      <td>-3.168765</td>\n",
              "      <td>-2.245878</td>\n",
              "      <td>-1.262260</td>\n",
              "      <td>-0.443307</td>\n",
              "      <td>-0.559769</td>\n",
              "      <td>0.108568</td>\n",
              "    </tr>\n",
              "    <tr>\n",
              "      <th>4999</th>\n",
              "      <td>2</td>\n",
              "      <td>0.728813</td>\n",
              "      <td>0.192597</td>\n",
              "      <td>-0.733884</td>\n",
              "      <td>-1.779456</td>\n",
              "      <td>-2.345908</td>\n",
              "      <td>-2.977565</td>\n",
              "      <td>-3.380053</td>\n",
              "      <td>-3.417164</td>\n",
              "      <td>-3.030925</td>\n",
              "      <td>...</td>\n",
              "      <td>1.219499</td>\n",
              "      <td>1.267275</td>\n",
              "      <td>1.678989</td>\n",
              "      <td>2.483389</td>\n",
              "      <td>2.569073</td>\n",
              "      <td>2.122891</td>\n",
              "      <td>1.753963</td>\n",
              "      <td>1.538975</td>\n",
              "      <td>1.713781</td>\n",
              "      <td>1.309382</td>\n",
              "    </tr>\n",
              "  </tbody>\n",
              "</table>\n",
              "<p>5000 rows × 141 columns</p>\n",
              "</div>\n",
              "      <button class=\"colab-df-convert\" onclick=\"convertToInteractive('df-8546fa24-992c-4759-b22c-75f78887284e')\"\n",
              "              title=\"Convert this dataframe to an interactive table.\"\n",
              "              style=\"display:none;\">\n",
              "        \n",
              "  <svg xmlns=\"http://www.w3.org/2000/svg\" height=\"24px\"viewBox=\"0 0 24 24\"\n",
              "       width=\"24px\">\n",
              "    <path d=\"M0 0h24v24H0V0z\" fill=\"none\"/>\n",
              "    <path d=\"M18.56 5.44l.94 2.06.94-2.06 2.06-.94-2.06-.94-.94-2.06-.94 2.06-2.06.94zm-11 1L8.5 8.5l.94-2.06 2.06-.94-2.06-.94L8.5 2.5l-.94 2.06-2.06.94zm10 10l.94 2.06.94-2.06 2.06-.94-2.06-.94-.94-2.06-.94 2.06-2.06.94z\"/><path d=\"M17.41 7.96l-1.37-1.37c-.4-.4-.92-.59-1.43-.59-.52 0-1.04.2-1.43.59L10.3 9.45l-7.72 7.72c-.78.78-.78 2.05 0 2.83L4 21.41c.39.39.9.59 1.41.59.51 0 1.02-.2 1.41-.59l7.78-7.78 2.81-2.81c.8-.78.8-2.07 0-2.86zM5.41 20L4 18.59l7.72-7.72 1.47 1.35L5.41 20z\"/>\n",
              "  </svg>\n",
              "      </button>\n",
              "      \n",
              "  <style>\n",
              "    .colab-df-container {\n",
              "      display:flex;\n",
              "      flex-wrap:wrap;\n",
              "      gap: 12px;\n",
              "    }\n",
              "\n",
              "    .colab-df-convert {\n",
              "      background-color: #E8F0FE;\n",
              "      border: none;\n",
              "      border-radius: 50%;\n",
              "      cursor: pointer;\n",
              "      display: none;\n",
              "      fill: #1967D2;\n",
              "      height: 32px;\n",
              "      padding: 0 0 0 0;\n",
              "      width: 32px;\n",
              "    }\n",
              "\n",
              "    .colab-df-convert:hover {\n",
              "      background-color: #E2EBFA;\n",
              "      box-shadow: 0px 1px 2px rgba(60, 64, 67, 0.3), 0px 1px 3px 1px rgba(60, 64, 67, 0.15);\n",
              "      fill: #174EA6;\n",
              "    }\n",
              "\n",
              "    [theme=dark] .colab-df-convert {\n",
              "      background-color: #3B4455;\n",
              "      fill: #D2E3FC;\n",
              "    }\n",
              "\n",
              "    [theme=dark] .colab-df-convert:hover {\n",
              "      background-color: #434B5C;\n",
              "      box-shadow: 0px 1px 3px 1px rgba(0, 0, 0, 0.15);\n",
              "      filter: drop-shadow(0px 1px 2px rgba(0, 0, 0, 0.3));\n",
              "      fill: #FFFFFF;\n",
              "    }\n",
              "  </style>\n",
              "\n",
              "      <script>\n",
              "        const buttonEl =\n",
              "          document.querySelector('#df-8546fa24-992c-4759-b22c-75f78887284e button.colab-df-convert');\n",
              "        buttonEl.style.display =\n",
              "          google.colab.kernel.accessAllowed ? 'block' : 'none';\n",
              "\n",
              "        async function convertToInteractive(key) {\n",
              "          const element = document.querySelector('#df-8546fa24-992c-4759-b22c-75f78887284e');\n",
              "          const dataTable =\n",
              "            await google.colab.kernel.invokeFunction('convertToInteractive',\n",
              "                                                     [key], {});\n",
              "          if (!dataTable) return;\n",
              "\n",
              "          const docLinkHtml = 'Like what you see? Visit the ' +\n",
              "            '<a target=\"_blank\" href=https://colab.research.google.com/notebooks/data_table.ipynb>data table notebook</a>'\n",
              "            + ' to learn more about interactive tables.';\n",
              "          element.innerHTML = '';\n",
              "          dataTable['output_type'] = 'display_data';\n",
              "          await google.colab.output.renderOutput(dataTable, element);\n",
              "          const docLink = document.createElement('div');\n",
              "          docLink.innerHTML = docLinkHtml;\n",
              "          element.appendChild(docLink);\n",
              "        }\n",
              "      </script>\n",
              "    </div>\n",
              "  </div>\n",
              "  "
            ]
          },
          "metadata": {},
          "execution_count": 8
        }
      ]
    },
    {
      "cell_type": "code",
      "source": [
        "df.describe()"
      ],
      "metadata": {
        "colab": {
          "base_uri": "https://localhost:8080/",
          "height": 390
        },
        "id": "RVYI3sJVQdA_",
        "outputId": "5e68b2f0-801c-43cb-87bb-8b6ff56fc9ae"
      },
      "execution_count": 9,
      "outputs": [
        {
          "output_type": "execute_result",
          "data": {
            "text/plain": [
              "            target           t1           t2           t3           t4  \\\n",
              "count  5000.000000  5000.000000  5000.000000  5000.000000  5000.000000   \n",
              "mean      1.527400    -0.262476    -1.649511    -2.492211    -3.119443   \n",
              "std       0.760372     1.152369     1.445493     1.386409     1.302802   \n",
              "min       1.000000    -6.729499    -7.090374    -5.132459    -5.363241   \n",
              "25%       1.000000    -1.004511    -2.701576    -3.668096    -4.227247   \n",
              "50%       1.000000    -0.297541    -1.661892    -2.585677    -3.387934   \n",
              "75%       2.000000     0.500061    -0.677290    -1.513964    -2.235369   \n",
              "max       5.000000     4.966414     3.479689     2.660597     1.899798   \n",
              "\n",
              "                t5           t6           t7           t8           t9  ...  \\\n",
              "count  5000.000000  5000.000000  5000.000000  5000.000000  5000.000000  ...   \n",
              "mean     -3.167438    -2.866308    -2.273126    -1.798127    -1.410124  ...   \n",
              "std       1.104382     0.906133     0.731627     0.623100     0.637149  ...   \n",
              "min      -5.375715    -5.330194    -4.782240    -4.311288    -4.071361  ...   \n",
              "25%      -4.007470    -3.480479    -2.779941    -2.165851    -1.774124  ...   \n",
              "50%      -3.468718    -2.947061    -2.285578    -1.750157    -1.422570  ...   \n",
              "75%      -2.530967    -2.398813    -1.823494    -1.484923    -1.063708  ...   \n",
              "max       2.147015     1.614375     1.868728     1.804251     1.683730  ...   \n",
              "\n",
              "              t131         t132         t133         t134         t135  \\\n",
              "count  5000.000000  5000.000000  5000.000000  5000.000000  5000.000000   \n",
              "mean      0.146319     0.070973    -0.062914    -0.276206    -0.507667   \n",
              "std       1.171299     1.404842     1.646585     1.895134     2.059758   \n",
              "min      -3.971715    -4.167040    -4.557576    -4.530488    -4.563270   \n",
              "25%      -0.655753    -1.089300    -1.588885    -2.147449    -2.731550   \n",
              "50%       0.473642     0.658318     0.717808     0.604747     0.334857   \n",
              "75%       1.062134     1.169420     1.238687     1.264471     1.234433   \n",
              "max       2.960969     3.007606     2.854680     2.912394     2.937685   \n",
              "\n",
              "              t136         t137         t138         t139         t140  \n",
              "count  5000.000000  5000.000000  5000.000000  5000.000000  5000.000000  \n",
              "mean     -0.761043    -0.834741    -0.642263    -0.487242    -0.706008  \n",
              "std       2.086218     2.056220     1.859296     1.830987     1.414465  \n",
              "min      -5.150100    -4.880460    -5.496107    -5.880890    -6.092227  \n",
              "25%      -3.030509    -2.868331    -2.153513    -1.657771    -1.596692  \n",
              "50%      -0.030767    -0.195151    -0.194423    -0.160262    -0.565588  \n",
              "75%       1.034584     0.945237     0.951681     1.002692     0.272012  \n",
              "max       3.351437     3.432519     3.579448     4.425976     7.402103  \n",
              "\n",
              "[8 rows x 141 columns]"
            ],
            "text/html": [
              "\n",
              "  <div id=\"df-d32e65a6-0a9f-40f8-8477-6b822ba482e5\">\n",
              "    <div class=\"colab-df-container\">\n",
              "      <div>\n",
              "<style scoped>\n",
              "    .dataframe tbody tr th:only-of-type {\n",
              "        vertical-align: middle;\n",
              "    }\n",
              "\n",
              "    .dataframe tbody tr th {\n",
              "        vertical-align: top;\n",
              "    }\n",
              "\n",
              "    .dataframe thead th {\n",
              "        text-align: right;\n",
              "    }\n",
              "</style>\n",
              "<table border=\"1\" class=\"dataframe\">\n",
              "  <thead>\n",
              "    <tr style=\"text-align: right;\">\n",
              "      <th></th>\n",
              "      <th>target</th>\n",
              "      <th>t1</th>\n",
              "      <th>t2</th>\n",
              "      <th>t3</th>\n",
              "      <th>t4</th>\n",
              "      <th>t5</th>\n",
              "      <th>t6</th>\n",
              "      <th>t7</th>\n",
              "      <th>t8</th>\n",
              "      <th>t9</th>\n",
              "      <th>...</th>\n",
              "      <th>t131</th>\n",
              "      <th>t132</th>\n",
              "      <th>t133</th>\n",
              "      <th>t134</th>\n",
              "      <th>t135</th>\n",
              "      <th>t136</th>\n",
              "      <th>t137</th>\n",
              "      <th>t138</th>\n",
              "      <th>t139</th>\n",
              "      <th>t140</th>\n",
              "    </tr>\n",
              "  </thead>\n",
              "  <tbody>\n",
              "    <tr>\n",
              "      <th>count</th>\n",
              "      <td>5000.000000</td>\n",
              "      <td>5000.000000</td>\n",
              "      <td>5000.000000</td>\n",
              "      <td>5000.000000</td>\n",
              "      <td>5000.000000</td>\n",
              "      <td>5000.000000</td>\n",
              "      <td>5000.000000</td>\n",
              "      <td>5000.000000</td>\n",
              "      <td>5000.000000</td>\n",
              "      <td>5000.000000</td>\n",
              "      <td>...</td>\n",
              "      <td>5000.000000</td>\n",
              "      <td>5000.000000</td>\n",
              "      <td>5000.000000</td>\n",
              "      <td>5000.000000</td>\n",
              "      <td>5000.000000</td>\n",
              "      <td>5000.000000</td>\n",
              "      <td>5000.000000</td>\n",
              "      <td>5000.000000</td>\n",
              "      <td>5000.000000</td>\n",
              "      <td>5000.000000</td>\n",
              "    </tr>\n",
              "    <tr>\n",
              "      <th>mean</th>\n",
              "      <td>1.527400</td>\n",
              "      <td>-0.262476</td>\n",
              "      <td>-1.649511</td>\n",
              "      <td>-2.492211</td>\n",
              "      <td>-3.119443</td>\n",
              "      <td>-3.167438</td>\n",
              "      <td>-2.866308</td>\n",
              "      <td>-2.273126</td>\n",
              "      <td>-1.798127</td>\n",
              "      <td>-1.410124</td>\n",
              "      <td>...</td>\n",
              "      <td>0.146319</td>\n",
              "      <td>0.070973</td>\n",
              "      <td>-0.062914</td>\n",
              "      <td>-0.276206</td>\n",
              "      <td>-0.507667</td>\n",
              "      <td>-0.761043</td>\n",
              "      <td>-0.834741</td>\n",
              "      <td>-0.642263</td>\n",
              "      <td>-0.487242</td>\n",
              "      <td>-0.706008</td>\n",
              "    </tr>\n",
              "    <tr>\n",
              "      <th>std</th>\n",
              "      <td>0.760372</td>\n",
              "      <td>1.152369</td>\n",
              "      <td>1.445493</td>\n",
              "      <td>1.386409</td>\n",
              "      <td>1.302802</td>\n",
              "      <td>1.104382</td>\n",
              "      <td>0.906133</td>\n",
              "      <td>0.731627</td>\n",
              "      <td>0.623100</td>\n",
              "      <td>0.637149</td>\n",
              "      <td>...</td>\n",
              "      <td>1.171299</td>\n",
              "      <td>1.404842</td>\n",
              "      <td>1.646585</td>\n",
              "      <td>1.895134</td>\n",
              "      <td>2.059758</td>\n",
              "      <td>2.086218</td>\n",
              "      <td>2.056220</td>\n",
              "      <td>1.859296</td>\n",
              "      <td>1.830987</td>\n",
              "      <td>1.414465</td>\n",
              "    </tr>\n",
              "    <tr>\n",
              "      <th>min</th>\n",
              "      <td>1.000000</td>\n",
              "      <td>-6.729499</td>\n",
              "      <td>-7.090374</td>\n",
              "      <td>-5.132459</td>\n",
              "      <td>-5.363241</td>\n",
              "      <td>-5.375715</td>\n",
              "      <td>-5.330194</td>\n",
              "      <td>-4.782240</td>\n",
              "      <td>-4.311288</td>\n",
              "      <td>-4.071361</td>\n",
              "      <td>...</td>\n",
              "      <td>-3.971715</td>\n",
              "      <td>-4.167040</td>\n",
              "      <td>-4.557576</td>\n",
              "      <td>-4.530488</td>\n",
              "      <td>-4.563270</td>\n",
              "      <td>-5.150100</td>\n",
              "      <td>-4.880460</td>\n",
              "      <td>-5.496107</td>\n",
              "      <td>-5.880890</td>\n",
              "      <td>-6.092227</td>\n",
              "    </tr>\n",
              "    <tr>\n",
              "      <th>25%</th>\n",
              "      <td>1.000000</td>\n",
              "      <td>-1.004511</td>\n",
              "      <td>-2.701576</td>\n",
              "      <td>-3.668096</td>\n",
              "      <td>-4.227247</td>\n",
              "      <td>-4.007470</td>\n",
              "      <td>-3.480479</td>\n",
              "      <td>-2.779941</td>\n",
              "      <td>-2.165851</td>\n",
              "      <td>-1.774124</td>\n",
              "      <td>...</td>\n",
              "      <td>-0.655753</td>\n",
              "      <td>-1.089300</td>\n",
              "      <td>-1.588885</td>\n",
              "      <td>-2.147449</td>\n",
              "      <td>-2.731550</td>\n",
              "      <td>-3.030509</td>\n",
              "      <td>-2.868331</td>\n",
              "      <td>-2.153513</td>\n",
              "      <td>-1.657771</td>\n",
              "      <td>-1.596692</td>\n",
              "    </tr>\n",
              "    <tr>\n",
              "      <th>50%</th>\n",
              "      <td>1.000000</td>\n",
              "      <td>-0.297541</td>\n",
              "      <td>-1.661892</td>\n",
              "      <td>-2.585677</td>\n",
              "      <td>-3.387934</td>\n",
              "      <td>-3.468718</td>\n",
              "      <td>-2.947061</td>\n",
              "      <td>-2.285578</td>\n",
              "      <td>-1.750157</td>\n",
              "      <td>-1.422570</td>\n",
              "      <td>...</td>\n",
              "      <td>0.473642</td>\n",
              "      <td>0.658318</td>\n",
              "      <td>0.717808</td>\n",
              "      <td>0.604747</td>\n",
              "      <td>0.334857</td>\n",
              "      <td>-0.030767</td>\n",
              "      <td>-0.195151</td>\n",
              "      <td>-0.194423</td>\n",
              "      <td>-0.160262</td>\n",
              "      <td>-0.565588</td>\n",
              "    </tr>\n",
              "    <tr>\n",
              "      <th>75%</th>\n",
              "      <td>2.000000</td>\n",
              "      <td>0.500061</td>\n",
              "      <td>-0.677290</td>\n",
              "      <td>-1.513964</td>\n",
              "      <td>-2.235369</td>\n",
              "      <td>-2.530967</td>\n",
              "      <td>-2.398813</td>\n",
              "      <td>-1.823494</td>\n",
              "      <td>-1.484923</td>\n",
              "      <td>-1.063708</td>\n",
              "      <td>...</td>\n",
              "      <td>1.062134</td>\n",
              "      <td>1.169420</td>\n",
              "      <td>1.238687</td>\n",
              "      <td>1.264471</td>\n",
              "      <td>1.234433</td>\n",
              "      <td>1.034584</td>\n",
              "      <td>0.945237</td>\n",
              "      <td>0.951681</td>\n",
              "      <td>1.002692</td>\n",
              "      <td>0.272012</td>\n",
              "    </tr>\n",
              "    <tr>\n",
              "      <th>max</th>\n",
              "      <td>5.000000</td>\n",
              "      <td>4.966414</td>\n",
              "      <td>3.479689</td>\n",
              "      <td>2.660597</td>\n",
              "      <td>1.899798</td>\n",
              "      <td>2.147015</td>\n",
              "      <td>1.614375</td>\n",
              "      <td>1.868728</td>\n",
              "      <td>1.804251</td>\n",
              "      <td>1.683730</td>\n",
              "      <td>...</td>\n",
              "      <td>2.960969</td>\n",
              "      <td>3.007606</td>\n",
              "      <td>2.854680</td>\n",
              "      <td>2.912394</td>\n",
              "      <td>2.937685</td>\n",
              "      <td>3.351437</td>\n",
              "      <td>3.432519</td>\n",
              "      <td>3.579448</td>\n",
              "      <td>4.425976</td>\n",
              "      <td>7.402103</td>\n",
              "    </tr>\n",
              "  </tbody>\n",
              "</table>\n",
              "<p>8 rows × 141 columns</p>\n",
              "</div>\n",
              "      <button class=\"colab-df-convert\" onclick=\"convertToInteractive('df-d32e65a6-0a9f-40f8-8477-6b822ba482e5')\"\n",
              "              title=\"Convert this dataframe to an interactive table.\"\n",
              "              style=\"display:none;\">\n",
              "        \n",
              "  <svg xmlns=\"http://www.w3.org/2000/svg\" height=\"24px\"viewBox=\"0 0 24 24\"\n",
              "       width=\"24px\">\n",
              "    <path d=\"M0 0h24v24H0V0z\" fill=\"none\"/>\n",
              "    <path d=\"M18.56 5.44l.94 2.06.94-2.06 2.06-.94-2.06-.94-.94-2.06-.94 2.06-2.06.94zm-11 1L8.5 8.5l.94-2.06 2.06-.94-2.06-.94L8.5 2.5l-.94 2.06-2.06.94zm10 10l.94 2.06.94-2.06 2.06-.94-2.06-.94-.94-2.06-.94 2.06-2.06.94z\"/><path d=\"M17.41 7.96l-1.37-1.37c-.4-.4-.92-.59-1.43-.59-.52 0-1.04.2-1.43.59L10.3 9.45l-7.72 7.72c-.78.78-.78 2.05 0 2.83L4 21.41c.39.39.9.59 1.41.59.51 0 1.02-.2 1.41-.59l7.78-7.78 2.81-2.81c.8-.78.8-2.07 0-2.86zM5.41 20L4 18.59l7.72-7.72 1.47 1.35L5.41 20z\"/>\n",
              "  </svg>\n",
              "      </button>\n",
              "      \n",
              "  <style>\n",
              "    .colab-df-container {\n",
              "      display:flex;\n",
              "      flex-wrap:wrap;\n",
              "      gap: 12px;\n",
              "    }\n",
              "\n",
              "    .colab-df-convert {\n",
              "      background-color: #E8F0FE;\n",
              "      border: none;\n",
              "      border-radius: 50%;\n",
              "      cursor: pointer;\n",
              "      display: none;\n",
              "      fill: #1967D2;\n",
              "      height: 32px;\n",
              "      padding: 0 0 0 0;\n",
              "      width: 32px;\n",
              "    }\n",
              "\n",
              "    .colab-df-convert:hover {\n",
              "      background-color: #E2EBFA;\n",
              "      box-shadow: 0px 1px 2px rgba(60, 64, 67, 0.3), 0px 1px 3px 1px rgba(60, 64, 67, 0.15);\n",
              "      fill: #174EA6;\n",
              "    }\n",
              "\n",
              "    [theme=dark] .colab-df-convert {\n",
              "      background-color: #3B4455;\n",
              "      fill: #D2E3FC;\n",
              "    }\n",
              "\n",
              "    [theme=dark] .colab-df-convert:hover {\n",
              "      background-color: #434B5C;\n",
              "      box-shadow: 0px 1px 3px 1px rgba(0, 0, 0, 0.15);\n",
              "      filter: drop-shadow(0px 1px 2px rgba(0, 0, 0, 0.3));\n",
              "      fill: #FFFFFF;\n",
              "    }\n",
              "  </style>\n",
              "\n",
              "      <script>\n",
              "        const buttonEl =\n",
              "          document.querySelector('#df-d32e65a6-0a9f-40f8-8477-6b822ba482e5 button.colab-df-convert');\n",
              "        buttonEl.style.display =\n",
              "          google.colab.kernel.accessAllowed ? 'block' : 'none';\n",
              "\n",
              "        async function convertToInteractive(key) {\n",
              "          const element = document.querySelector('#df-d32e65a6-0a9f-40f8-8477-6b822ba482e5');\n",
              "          const dataTable =\n",
              "            await google.colab.kernel.invokeFunction('convertToInteractive',\n",
              "                                                     [key], {});\n",
              "          if (!dataTable) return;\n",
              "\n",
              "          const docLinkHtml = 'Like what you see? Visit the ' +\n",
              "            '<a target=\"_blank\" href=https://colab.research.google.com/notebooks/data_table.ipynb>data table notebook</a>'\n",
              "            + ' to learn more about interactive tables.';\n",
              "          element.innerHTML = '';\n",
              "          dataTable['output_type'] = 'display_data';\n",
              "          await google.colab.output.renderOutput(dataTable, element);\n",
              "          const docLink = document.createElement('div');\n",
              "          docLink.innerHTML = docLinkHtml;\n",
              "          element.appendChild(docLink);\n",
              "        }\n",
              "      </script>\n",
              "    </div>\n",
              "  </div>\n",
              "  "
            ]
          },
          "metadata": {},
          "execution_count": 9
        }
      ]
    },
    {
      "cell_type": "markdown",
      "source": [
        "What we can see is that the min and max values are between the range [-7,7], the mean value is more or less in range between [-1,1]."
      ],
      "metadata": {
        "id": "v0AxFkn4VJ54"
      }
    },
    {
      "cell_type": "code",
      "source": [
        "df['target'].value_counts()"
      ],
      "metadata": {
        "colab": {
          "base_uri": "https://localhost:8080/"
        },
        "id": "RpeD02OzV8hL",
        "outputId": "20be920f-3e26-48ee-d3f1-3f6db1885505"
      },
      "execution_count": 10,
      "outputs": [
        {
          "output_type": "execute_result",
          "data": {
            "text/plain": [
              "1    2919\n",
              "2    1767\n",
              "4     194\n",
              "3      96\n",
              "5      24\n",
              "Name: target, dtype: int64"
            ]
          },
          "metadata": {},
          "execution_count": 10
        }
      ]
    },
    {
      "cell_type": "code",
      "source": [
        "normal_class = 1\n",
        "class_names = ['Normal','R on T','PVC','SP','UB']"
      ],
      "metadata": {
        "id": "j9GHB8XIU74e"
      },
      "execution_count": 11,
      "outputs": []
    },
    {
      "cell_type": "code",
      "source": [
        "plt.figure(figsize=(12,8))\n",
        "ax = sns.countplot(x=df.target)\n",
        "ax.set_xticklabels(class_names);"
      ],
      "metadata": {
        "colab": {
          "base_uri": "https://localhost:8080/",
          "height": 497
        },
        "id": "vGrLi1hGV-zx",
        "outputId": "c13a8d01-5cd4-4d26-d976-70aa8737728f"
      },
      "execution_count": 12,
      "outputs": [
        {
          "output_type": "display_data",
          "data": {
            "text/plain": [
              "<Figure size 864x576 with 1 Axes>"
            ],
            "image/png": "[encoded data removed]"
          },
          "metadata": {
            "needs_background": "light"
          }
        }
      ]
    },
    {
      "cell_type": "code",
      "source": [
        "df_train = df[:4500]\n",
        "df_test = df[4500:5000]"
      ],
      "metadata": {
        "id": "Dk-XzJgZlMzo"
      },
      "execution_count": 13,
      "outputs": []
    },
    {
      "cell_type": "markdown",
      "source": [
        "### SMOTE for handling inbalanced datasets"
      ],
      "metadata": {
        "id": "f4fUe7p0asYz"
      }
    },
    {
      "cell_type": "markdown",
      "source": [
        "SMOTE = Synthetic Minority Oversampling TEchnique"
      ],
      "metadata": {
        "id": "x0dMldcHav92"
      }
    },
    {
      "cell_type": "code",
      "source": [
        "from imblearn.combine import SMOTETomek\n",
        "def over_under_sampling(dataframe):\n",
        "    \"\"\"\n",
        "    Use SMOTETomek technique to oversample our dataset. \n",
        "    \n",
        "    This function is written to be applied to our datasets, \n",
        "    where the first column holds the labels, and the rest is the \n",
        "    time sequence. \n",
        "\n",
        "    It passes the under-represented data - classes 2-5 along\n",
        "    with the dominant class 1 into the SMOTETomek over- & undersampler\n",
        "    to balance the dataset. \n",
        "    \"\"\"\n",
        "    # lists to store the created values in\n",
        "    x_res = []\n",
        "    y_res = []\n",
        "\n",
        "    for i in range(2,6):\n",
        "\n",
        "        # create copy of the dataframe\n",
        "        df_copy = dataframe.copy()\n",
        "        # choose samples of i-th class\n",
        "        df = df_copy[df_copy['target'] == i]\n",
        "        # add samples from 1st class\n",
        "        df = df.append(df_copy[df_copy['target'] == 1])\n",
        "        # split the dataframe into x - data and y - labels\n",
        "        x = df.values[:,1:]\n",
        "        y = df.values[:,0]\n",
        "\n",
        "        # define the imbalance function\n",
        "        smtomek = SMOTETomek(random_state=42)\n",
        "        # fit it on our data\n",
        "        x_r, y_r = smtomek.fit_resample(x, y)\n",
        "        \n",
        "        # we want to skip the data we fit it on - only want the new data\n",
        "        skip = y.shape[0]\n",
        "        # append the data into our above lists\n",
        "        x_res.append(x_r[skip:,:])\n",
        "        y_res.append(y_r[skip:])\n",
        "\n",
        "    # return the data as concatenated arrays -> only one array of all samples\n",
        "    # instead of a list of arrays\n",
        "    return np.concatenate(x_res), np.concatenate(y_res)"
      ],
      "metadata": {
        "id": "cKub6k5Pa0r_"
      },
      "execution_count": 16,
      "outputs": []
    },
    {
      "cell_type": "code",
      "source": [
        "X_os, y_os = over_under_sampling(df_train)"
      ],
      "metadata": {
        "id": "YBMbeY6Ma3xL"
      },
      "execution_count": 26,
      "outputs": []
    },
    {
      "cell_type": "markdown",
      "source": [
        "### Split the dataframe into data-points and labels"
      ],
      "metadata": {
        "id": "w9kHR71Lby2F"
      }
    },
    {
      "cell_type": "code",
      "source": [
        "X_train = df_train.values[:,1:]  # [all rows, column 1 to end]\n",
        "y_train = df_train.values[:,0]   # [all rows, column 0]\n",
        "\n",
        "X_test = df_test.values[:,1:]    # [all rows, column 1 to end]\n",
        "y_test = df_test.values[:,0]     # [all rows, column 0]"
      ],
      "metadata": {
        "id": "fxwB7tlSb2Th"
      },
      "execution_count": 18,
      "outputs": []
    },
    {
      "cell_type": "code",
      "source": [
        "X_train = np.concatenate((X_train, X_os))\n",
        "y_train = np.concatenate((y_train, y_os))"
      ],
      "metadata": {
        "id": "SIZhUN2UvNHJ"
      },
      "execution_count": 27,
      "outputs": []
    },
    {
      "cell_type": "code",
      "source": [
        "lbl, count = np.unique(y_train, return_counts=True)\n",
        "\n",
        "plt.bar(lbl, count)"
      ],
      "metadata": {
        "colab": {
          "base_uri": "https://localhost:8080/",
          "height": 282
        },
        "id": "RApMQBeFe4Jh",
        "outputId": "e3ac4089-3451-4e7b-963b-287755bea34d"
      },
      "execution_count": 21,
      "outputs": [
        {
          "output_type": "execute_result",
          "data": {
            "text/plain": [
              "<BarContainer object of 5 artists>"
            ]
          },
          "metadata": {},
          "execution_count": 21
        },
        {
          "output_type": "display_data",
          "data": {
            "text/plain": [
              "<Figure size 432x288 with 1 Axes>"
            ],
            "image/png": "[encoded data removed]"
          },
          "metadata": {
            "needs_background": "light"
          }
        }
      ]
    },
    {
      "cell_type": "markdown",
      "source": [
        "### Visualizing the signals"
      ],
      "metadata": {
        "id": "o6c3xDlivi7g"
      }
    },
    {
      "cell_type": "code",
      "source": [
        "t = np.linspace(0,140, 140)\n",
        "\n",
        "for i in range(2,6):\n",
        "    id = np.where(y_train == i)[0][:3]\n",
        "    id_os = np.where(y_os == i)[0][:3]\n",
        "\n",
        "\n",
        "    plt.figure(figsize=(8,4))\n",
        "    plt.subplot(1,2 , 1) \n",
        "    plt.plot(t, X_train[id[0]], t, X_train[id[1]], t, X_train[id[2]], )\n",
        "    plt.title('Original Data - class ' + str(i))\n",
        "    \n",
        "    plt.subplot(1, 2, 2) \n",
        "    plt.plot(t, X_os[id_os[0]], t, X_os[id_os[1]], t, X_os[id_os[2]], )\n",
        "    plt.title('Synthetical Data - class ' + str(i))"
      ],
      "metadata": {
        "colab": {
          "base_uri": "https://localhost:8080/",
          "height": 1000
        },
        "id": "hpQ3ll_avkxv",
        "outputId": "bf48d8c3-ab39-42da-bbc8-7f82575a7eef"
      },
      "execution_count": 28,
      "outputs": [
        {
          "output_type": "display_data",
          "data": {
            "text/plain": [
              "<Figure size 576x288 with 2 Axes>"
            ],
            "image/png": "[encoded data removed]"
          },
          "metadata": {
            "needs_background": "light"
          }
        },
        {
          "output_type": "display_data",
          "data": {
            "text/plain": [
              "<Figure size 576x288 with 2 Axes>"
            ],
            "image/png": "[encoded data removed]"
          },
          "metadata": {
            "needs_background": "light"
          }
        },
        {
          "output_type": "display_data",
          "data": {
            "text/plain": [
              "<Figure size 576x288 with 2 Axes>"
            ],
            "image/png": "[encoded data removed]"
          },
          "metadata": {
            "needs_background": "light"
          }
        },
        {
          "output_type": "display_data",
          "data": {
            "text/plain": [
              "<Figure size 576x288 with 2 Axes>"
            ],
            "image/png": "[encoded data removed]"
          },
          "metadata": {
            "needs_background": "light"
          }
        }
      ]
    },
    {
      "cell_type": "code",
      "source": [
        "scaler = preprocessing.MinMaxScaler()\n",
        "data_scaler = scaler.fit(X_train)"
      ],
      "metadata": {
        "id": "qcRfkLDewIEG"
      },
      "execution_count": 29,
      "outputs": []
    },
    {
      "cell_type": "code",
      "source": [
        "X_train = data_scaler.transform(X_train)\n",
        "X_test = data_scaler.transform(X_test)"
      ],
      "metadata": {
        "id": "fMlP_ubHwV1s"
      },
      "execution_count": 30,
      "outputs": []
    },
    {
      "cell_type": "code",
      "source": [
        "X_train = np.expand_dims(X_train, axis=-1)\n",
        "X_test = np.expand_dims(X_test, axis=-1)"
      ],
      "metadata": {
        "id": "AAA1R19MwUoW"
      },
      "execution_count": 31,
      "outputs": []
    },
    {
      "cell_type": "code",
      "source": [
        "# we need to index classes from 0 to 4\n",
        "y_train = y_train - 1            \n",
        "y_test = y_test - 1"
      ],
      "metadata": {
        "id": "EBWNiMdGwS8I"
      },
      "execution_count": 32,
      "outputs": []
    },
    {
      "cell_type": "code",
      "source": [
        "X_train, X_val, y_train, y_val = train_test_split(X_train,\n",
        "                                                  y_train,\n",
        "                                                  test_size=0.2,\n",
        "                                                  random_state=42) "
      ],
      "metadata": {
        "id": "l86w9lBJwRN1"
      },
      "execution_count": 33,
      "outputs": []
    },
    {
      "cell_type": "code",
      "source": [
        "# Functions to plot accuracy, loss and confusion matrix\n",
        "\n",
        "def plot_acc(history):\n",
        "    plt.plot(history.history['accuracy'])\n",
        "    plt.plot(history.history['val_accuracy'])\n",
        "    plt.title('model accuracy')\n",
        "    plt.ylabel('accuracy')\n",
        "    plt.xlabel('epoch')\n",
        "    plt.legend(['train', 'val'])\n",
        "    return plt.show()\n",
        "\n",
        "def plot_loss(history):\n",
        "    plt.plot(history.history['loss'])\n",
        "    plt.plot(history.history['val_loss'])\n",
        "    plt.title('model loss')\n",
        "    plt.ylabel('loss')\n",
        "    plt.xlabel('epoch')\n",
        "    plt.legend(['train', 'val'])\n",
        "    return plt.show()\n",
        "\n",
        "def cm_plot(model, x_test):\n",
        "    y_predict = model.predict(x_test)\n",
        "    y_pred = []\n",
        "\n",
        "    for i in range(len(y_predict)):\n",
        "        y_pred.append(np.argmax(y_predict[i,:]))\n",
        "\n",
        "    cm = confusion_matrix(y_test, y_pred)\n",
        "    # Normalise\n",
        "    cmn = cm.astype('float') / cm.sum(axis=1)[:, np.newaxis]\n",
        "    fig, ax = plt.subplots(figsize=(10,10))\n",
        "    sns.heatmap(cmn, cmap='Blues', annot=True, fmt='.2f')\n",
        "    sns.set(font_scale=1.3)\n",
        "    plt.title(\"Confusion Matrix\")\n",
        "\n",
        "    return plt.show()"
      ],
      "metadata": {
        "id": "mrWXMMZdyjTl"
      },
      "execution_count": 40,
      "outputs": []
    },
    {
      "cell_type": "markdown",
      "source": [
        "### Model 1: Conv1D"
      ],
      "metadata": {
        "id": "2Yar_Y9EwdZR"
      }
    },
    {
      "cell_type": "markdown",
      "source": [
        "About the input shape, we have data with 140 timesteps and only one feature (array 140x1). However, if you happen to have data which have more features - I/Q representation with (tx2) shape where t are the timesteps you can simply change the 1 to match the number of your feature representations."
      ],
      "metadata": {
        "id": "rv3W1tBxwjXi"
      }
    },
    {
      "cell_type": "code",
      "source": [
        "layer_in = layers.Input(shape=(140,1))\n",
        "layer = layers.Conv1D(filters=32, kernel_size=4, activation='relu')(layer_in)\n",
        "layer = layers.MaxPool1D(pool_size=2)(layer)\n",
        "layer = layers.Conv1D(filters=32, kernel_size=4, activation='relu')(layer)\n",
        "layer = layers.MaxPool1D(pool_size=2)(layer)\n",
        "layer = layers.Flatten()(layer)\n",
        "layer = layers.Dense(32, activation='relu')(layer)\n",
        "layer = layers.Dropout(0.2)(layer)\n",
        "layer_out = layers.Dense(5, activation='softmax')(layer)\n",
        "\n",
        "model = keras.models.Model(layer_in, layer_out)\n",
        "\n",
        "optimizer = keras.optimizers.Adam(learning_rate=0.001)\n",
        "\n",
        "callbacks = [\n",
        "             keras.callbacks.ModelCheckpoint('model.h5', \n",
        "                                             save_best_only=True, \n",
        "                                             monitor='val_loss'),\n",
        "             keras.callbacks.ReduceLROnPlateau(monitor='val_loss', \n",
        "                                               factor=0.1, \n",
        "                                               patience=3,\n",
        "                                               ),\n",
        "             keras.callbacks.EarlyStopping(monitor='val_loss', \n",
        "                                           patience=8,\n",
        "                                           verbose=1)\n",
        "             ]\n",
        "\n",
        "model.compile(loss='sparse_categorical_crossentropy',\n",
        "              optimizer=optimizer, \n",
        "              metrics=['accuracy'])\n"
      ],
      "metadata": {
        "id": "AGO_v5EjwfAr"
      },
      "execution_count": 35,
      "outputs": []
    },
    {
      "cell_type": "code",
      "source": [
        "model.summary()"
      ],
      "metadata": {
        "colab": {
          "base_uri": "https://localhost:8080/"
        },
        "id": "twkUaUZswpo1",
        "outputId": "130fb925-e52d-47a8-8ca9-7d7843e6ab9d"
      },
      "execution_count": 36,
      "outputs": [
        {
          "output_type": "stream",
          "name": "stdout",
          "text": [
            "Model: \"model\"\n",
            "_________________________________________________________________\n",
            " Layer (type)                Output Shape              Param #   \n",
            "=================================================================\n",
            " input_1 (InputLayer)        [(None, 140, 1)]          0         \n",
            "                                                                 \n",
            " conv1d (Conv1D)             (None, 137, 32)           160       \n",
            "                                                                 \n",
            " max_pooling1d (MaxPooling1D  (None, 68, 32)           0         \n",
            " )                                                               \n",
            "                                                                 \n",
            " conv1d_1 (Conv1D)           (None, 65, 32)            4128      \n",
            "                                                                 \n",
            " max_pooling1d_1 (MaxPooling  (None, 32, 32)           0         \n",
            " 1D)                                                             \n",
            "                                                                 \n",
            " flatten (Flatten)           (None, 1024)              0         \n",
            "                                                                 \n",
            " dense (Dense)               (None, 32)                32800     \n",
            "                                                                 \n",
            " dropout (Dropout)           (None, 32)                0         \n",
            "                                                                 \n",
            " dense_1 (Dense)             (None, 5)                 165       \n",
            "                                                                 \n",
            "=================================================================\n",
            "Total params: 37,253\n",
            "Trainable params: 37,253\n",
            "Non-trainable params: 0\n",
            "_________________________________________________________________\n"
          ]
        }
      ]
    },
    {
      "cell_type": "code",
      "source": [
        "history = model.fit(X_train, y_train,\n",
        "                    batch_size=128, epochs=50, verbose=2,\n",
        "                    validation_data=(X_val, y_val),\n",
        "                    shuffle=True, callbacks=callbacks)"
      ],
      "metadata": {
        "colab": {
          "base_uri": "https://localhost:8080/"
        },
        "id": "aUwZrENNwt0W",
        "outputId": "156ed7c6-02a6-4582-ec66-298ee8202568"
      },
      "execution_count": 37,
      "outputs": [
        {
          "output_type": "stream",
          "name": "stdout",
          "text": [
            "Epoch 1/50\n",
            "155/155 - 5s - loss: 1.3406 - accuracy: 0.3819 - val_loss: 0.9850 - val_accuracy: 0.6164 - lr: 0.0010 - 5s/epoch - 30ms/step\n",
            "Epoch 2/50\n",
            "155/155 - 4s - loss: 0.9300 - accuracy: 0.5963 - val_loss: 0.7370 - val_accuracy: 0.7094 - lr: 0.0010 - 4s/epoch - 23ms/step\n",
            "Epoch 3/50\n",
            "155/155 - 4s - loss: 0.7488 - accuracy: 0.6696 - val_loss: 0.5806 - val_accuracy: 0.7730 - lr: 0.0010 - 4s/epoch - 23ms/step\n",
            "Epoch 4/50\n",
            "155/155 - 4s - loss: 0.6311 - accuracy: 0.7245 - val_loss: 0.5035 - val_accuracy: 0.7922 - lr: 0.0010 - 4s/epoch - 23ms/step\n",
            "Epoch 5/50\n",
            "155/155 - 4s - loss: 0.5682 - accuracy: 0.7510 - val_loss: 0.4487 - val_accuracy: 0.8137 - lr: 0.0010 - 4s/epoch - 23ms/step\n",
            "Epoch 6/50\n",
            "155/155 - 4s - loss: 0.5144 - accuracy: 0.7673 - val_loss: 0.4188 - val_accuracy: 0.8121 - lr: 0.0010 - 4s/epoch - 23ms/step\n",
            "Epoch 7/50\n",
            "155/155 - 4s - loss: 0.4800 - accuracy: 0.7804 - val_loss: 0.3849 - val_accuracy: 0.8267 - lr: 0.0010 - 4s/epoch - 23ms/step\n",
            "Epoch 8/50\n",
            "155/155 - 4s - loss: 0.4558 - accuracy: 0.7904 - val_loss: 0.3542 - val_accuracy: 0.8424 - lr: 0.0010 - 4s/epoch - 27ms/step\n",
            "Epoch 9/50\n",
            "155/155 - 4s - loss: 0.4318 - accuracy: 0.7967 - val_loss: 0.3395 - val_accuracy: 0.8495 - lr: 0.0010 - 4s/epoch - 23ms/step\n",
            "Epoch 10/50\n",
            "155/155 - 4s - loss: 0.4099 - accuracy: 0.8093 - val_loss: 0.3394 - val_accuracy: 0.8475 - lr: 0.0010 - 4s/epoch - 23ms/step\n",
            "Epoch 11/50\n",
            "155/155 - 4s - loss: 0.3989 - accuracy: 0.8112 - val_loss: 0.3075 - val_accuracy: 0.8562 - lr: 0.0010 - 4s/epoch - 23ms/step\n",
            "Epoch 12/50\n",
            "155/155 - 4s - loss: 0.3883 - accuracy: 0.8107 - val_loss: 0.3019 - val_accuracy: 0.8578 - lr: 0.0010 - 4s/epoch - 23ms/step\n",
            "Epoch 13/50\n",
            "155/155 - 4s - loss: 0.3678 - accuracy: 0.8209 - val_loss: 0.2876 - val_accuracy: 0.8625 - lr: 0.0010 - 4s/epoch - 23ms/step\n",
            "Epoch 14/50\n",
            "155/155 - 4s - loss: 0.3648 - accuracy: 0.8203 - val_loss: 0.2986 - val_accuracy: 0.8588 - lr: 0.0010 - 4s/epoch - 23ms/step\n",
            "Epoch 15/50\n",
            "155/155 - 4s - loss: 0.3521 - accuracy: 0.8265 - val_loss: 0.2729 - val_accuracy: 0.8706 - lr: 0.0010 - 4s/epoch - 23ms/step\n",
            "Epoch 16/50\n",
            "155/155 - 4s - loss: 0.3421 - accuracy: 0.8301 - val_loss: 0.2717 - val_accuracy: 0.8641 - lr: 0.0010 - 4s/epoch - 23ms/step\n",
            "Epoch 17/50\n",
            "155/155 - 4s - loss: 0.3369 - accuracy: 0.8340 - val_loss: 0.2696 - val_accuracy: 0.8692 - lr: 0.0010 - 4s/epoch - 23ms/step\n",
            "Epoch 18/50\n",
            "155/155 - 4s - loss: 0.3338 - accuracy: 0.8361 - val_loss: 0.2573 - val_accuracy: 0.8755 - lr: 0.0010 - 4s/epoch - 23ms/step\n",
            "Epoch 19/50\n",
            "155/155 - 4s - loss: 0.3255 - accuracy: 0.8411 - val_loss: 0.2458 - val_accuracy: 0.8886 - lr: 0.0010 - 4s/epoch - 23ms/step\n",
            "Epoch 20/50\n",
            "155/155 - 7s - loss: 0.3163 - accuracy: 0.8431 - val_loss: 0.2420 - val_accuracy: 0.8951 - lr: 0.0010 - 7s/epoch - 42ms/step\n",
            "Epoch 21/50\n",
            "155/155 - 4s - loss: 0.3126 - accuracy: 0.8453 - val_loss: 0.2423 - val_accuracy: 0.8935 - lr: 0.0010 - 4s/epoch - 23ms/step\n",
            "Epoch 22/50\n",
            "155/155 - 4s - loss: 0.3102 - accuracy: 0.8485 - val_loss: 0.2427 - val_accuracy: 0.8904 - lr: 0.0010 - 4s/epoch - 23ms/step\n",
            "Epoch 23/50\n",
            "155/155 - 4s - loss: 0.3037 - accuracy: 0.8542 - val_loss: 0.2362 - val_accuracy: 0.8941 - lr: 0.0010 - 4s/epoch - 23ms/step\n",
            "Epoch 24/50\n",
            "155/155 - 4s - loss: 0.2967 - accuracy: 0.8575 - val_loss: 0.2209 - val_accuracy: 0.9050 - lr: 0.0010 - 4s/epoch - 23ms/step\n",
            "Epoch 25/50\n",
            "155/155 - 4s - loss: 0.2908 - accuracy: 0.8615 - val_loss: 0.2284 - val_accuracy: 0.8864 - lr: 0.0010 - 4s/epoch - 23ms/step\n",
            "Epoch 26/50\n",
            "155/155 - 4s - loss: 0.2937 - accuracy: 0.8615 - val_loss: 0.2256 - val_accuracy: 0.8959 - lr: 0.0010 - 4s/epoch - 23ms/step\n",
            "Epoch 27/50\n",
            "155/155 - 4s - loss: 0.2827 - accuracy: 0.8655 - val_loss: 0.2170 - val_accuracy: 0.9077 - lr: 0.0010 - 4s/epoch - 24ms/step\n",
            "Epoch 28/50\n",
            "155/155 - 4s - loss: 0.2747 - accuracy: 0.8714 - val_loss: 0.2217 - val_accuracy: 0.9107 - lr: 0.0010 - 4s/epoch - 23ms/step\n",
            "Epoch 29/50\n",
            "155/155 - 4s - loss: 0.2730 - accuracy: 0.8737 - val_loss: 0.1998 - val_accuracy: 0.9226 - lr: 0.0010 - 4s/epoch - 24ms/step\n",
            "Epoch 30/50\n",
            "155/155 - 4s - loss: 0.2653 - accuracy: 0.8770 - val_loss: 0.1992 - val_accuracy: 0.9297 - lr: 0.0010 - 4s/epoch - 24ms/step\n",
            "Epoch 31/50\n",
            "155/155 - 4s - loss: 0.2584 - accuracy: 0.8835 - val_loss: 0.1948 - val_accuracy: 0.9305 - lr: 0.0010 - 4s/epoch - 24ms/step\n",
            "Epoch 32/50\n",
            "155/155 - 4s - loss: 0.2544 - accuracy: 0.8856 - val_loss: 0.2044 - val_accuracy: 0.9263 - lr: 0.0010 - 4s/epoch - 23ms/step\n",
            "Epoch 33/50\n",
            "155/155 - 4s - loss: 0.2508 - accuracy: 0.8845 - val_loss: 0.1831 - val_accuracy: 0.9342 - lr: 0.0010 - 4s/epoch - 24ms/step\n",
            "Epoch 34/50\n",
            "155/155 - 4s - loss: 0.2499 - accuracy: 0.8884 - val_loss: 0.1841 - val_accuracy: 0.9348 - lr: 0.0010 - 4s/epoch - 23ms/step\n",
            "Epoch 35/50\n",
            "155/155 - 4s - loss: 0.2459 - accuracy: 0.8904 - val_loss: 0.1777 - val_accuracy: 0.9338 - lr: 0.0010 - 4s/epoch - 23ms/step\n",
            "Epoch 36/50\n",
            "155/155 - 4s - loss: 0.2406 - accuracy: 0.8945 - val_loss: 0.1887 - val_accuracy: 0.9301 - lr: 0.0010 - 4s/epoch - 23ms/step\n",
            "Epoch 37/50\n",
            "155/155 - 4s - loss: 0.2429 - accuracy: 0.8949 - val_loss: 0.1832 - val_accuracy: 0.9281 - lr: 0.0010 - 4s/epoch - 24ms/step\n",
            "Epoch 38/50\n",
            "155/155 - 4s - loss: 0.2376 - accuracy: 0.8989 - val_loss: 0.1815 - val_accuracy: 0.9281 - lr: 0.0010 - 4s/epoch - 23ms/step\n",
            "Epoch 39/50\n",
            "155/155 - 4s - loss: 0.2193 - accuracy: 0.9082 - val_loss: 0.1628 - val_accuracy: 0.9447 - lr: 1.0000e-04 - 4s/epoch - 23ms/step\n",
            "Epoch 40/50\n",
            "155/155 - 4s - loss: 0.2148 - accuracy: 0.9084 - val_loss: 0.1626 - val_accuracy: 0.9455 - lr: 1.0000e-04 - 4s/epoch - 24ms/step\n",
            "Epoch 41/50\n",
            "155/155 - 4s - loss: 0.2157 - accuracy: 0.9114 - val_loss: 0.1622 - val_accuracy: 0.9451 - lr: 1.0000e-04 - 4s/epoch - 26ms/step\n",
            "Epoch 42/50\n",
            "155/155 - 6s - loss: 0.2179 - accuracy: 0.9088 - val_loss: 0.1615 - val_accuracy: 0.9459 - lr: 1.0000e-04 - 6s/epoch - 39ms/step\n",
            "Epoch 43/50\n",
            "155/155 - 4s - loss: 0.2132 - accuracy: 0.9113 - val_loss: 0.1606 - val_accuracy: 0.9463 - lr: 1.0000e-04 - 4s/epoch - 24ms/step\n",
            "Epoch 44/50\n",
            "155/155 - 4s - loss: 0.2129 - accuracy: 0.9119 - val_loss: 0.1605 - val_accuracy: 0.9447 - lr: 1.0000e-04 - 4s/epoch - 23ms/step\n",
            "Epoch 45/50\n",
            "155/155 - 4s - loss: 0.2131 - accuracy: 0.9109 - val_loss: 0.1630 - val_accuracy: 0.9492 - lr: 1.0000e-04 - 4s/epoch - 24ms/step\n",
            "Epoch 46/50\n",
            "155/155 - 4s - loss: 0.2140 - accuracy: 0.9116 - val_loss: 0.1598 - val_accuracy: 0.9453 - lr: 1.0000e-04 - 4s/epoch - 24ms/step\n",
            "Epoch 47/50\n",
            "155/155 - 4s - loss: 0.2117 - accuracy: 0.9127 - val_loss: 0.1583 - val_accuracy: 0.9473 - lr: 1.0000e-04 - 4s/epoch - 24ms/step\n",
            "Epoch 48/50\n",
            "155/155 - 4s - loss: 0.2117 - accuracy: 0.9124 - val_loss: 0.1576 - val_accuracy: 0.9467 - lr: 1.0000e-04 - 4s/epoch - 24ms/step\n",
            "Epoch 49/50\n",
            "155/155 - 4s - loss: 0.2140 - accuracy: 0.9106 - val_loss: 0.1597 - val_accuracy: 0.9482 - lr: 1.0000e-04 - 4s/epoch - 23ms/step\n",
            "Epoch 50/50\n",
            "155/155 - 4s - loss: 0.2135 - accuracy: 0.9120 - val_loss: 0.1576 - val_accuracy: 0.9455 - lr: 1.0000e-04 - 4s/epoch - 23ms/step\n"
          ]
        }
      ]
    },
    {
      "cell_type": "code",
      "source": [
        "test_loss, test_acc = model.evaluate(X_test, y_test)\n",
        "print(\"Test accuracy\", test_acc)\n",
        "print(\"Test loss\", test_loss)\n",
        "\n",
        "plot_acc(history)\n",
        "plot_loss(history)\n",
        "cm_plot(model, X_test)"
      ],
      "metadata": {
        "colab": {
          "base_uri": "https://localhost:8080/",
          "height": 1000
        },
        "id": "WZKVQIFayXGO",
        "outputId": "afdbf73e-e5fd-47fc-f3f3-2c5a58780715"
      },
      "execution_count": 41,
      "outputs": [
        {
          "output_type": "stream",
          "name": "stdout",
          "text": [
            "16/16 [==============================] - 0s 4ms/step - loss: 0.8987 - accuracy: 0.8400\n",
            "Test accuracy 0.8399999737739563\n",
            "Test loss 0.8986784815788269\n"
          ]
        },
        {
          "output_type": "display_data",
          "data": {
            "text/plain": [
              "<Figure size 432x288 with 1 Axes>"
            ],
            "image/png": "[encoded data removed]"
          },
          "metadata": {
            "needs_background": "light"
          }
        },
        {
          "output_type": "display_data",
          "data": {
            "text/plain": [
              "<Figure size 432x288 with 1 Axes>"
            ],
            "image/png": "[encoded data removed]"
          },
          "metadata": {
            "needs_background": "light"
          }
        },
        {
          "output_type": "stream",
          "name": "stdout",
          "text": [
            "16/16 [==============================] - 0s 4ms/step\n"
          ]
        },
        {
          "output_type": "stream",
          "name": "stderr",
          "text": [
            "<ipython-input-40-17cb580e5144>:30: RuntimeWarning: invalid value encountered in true_divide\n",
            "  cmn = cm.astype('float') / cm.sum(axis=1)[:, np.newaxis]\n"
          ]
        },
        {
          "output_type": "display_data",
          "data": {
            "text/plain": [
              "<Figure size 720x720 with 2 Axes>"
            ],
            "image/png": "[encoded data removed]"
          },
          "metadata": {
            "needs_background": "light"
          }
        }
      ]
    },
    {
      "cell_type": "markdown",
      "source": [
        "### Model 2: LSTM"
      ],
      "metadata": {
        "id": "4DcSA2IZ1cCr"
      }
    },
    {
      "cell_type": "markdown",
      "source": [
        "We have data with 140 timesteps and only one feature (array 140x1). However, if you happen to have data which have more features - I/Q representation with (tx2) shape where t are the timesteps you can simply change the 1 to match the number of your feature representations.\n",
        "\n",
        "However unlike when using conv1d only, you could set the timesteps value to None. This allows you to train and test your data on a variable sequence length.\n",
        "\n",
        "The only thing you have to do when training the model is to have batches of the same size."
      ],
      "metadata": {
        "id": "r4TCgScw1fX8"
      }
    },
    {
      "cell_type": "code",
      "source": [
        "layer_in = layers.Input(shape=(140,1)) \n",
        "layer = layers.LSTM(16, return_sequences=True)(layer_in)\n",
        "layer = layers.Dropout(0.4)(layer)\n",
        "layer = layers.GRU(16, return_sequences=False)(layer)\n",
        "layer = layers.Dropout(0.4)(layer)\n",
        "layer = layers.Dense(32, activation='relu')(layer)\n",
        "layer = layers.Dropout(0.2)(layer)\n",
        "layer_out = layers.Dense(5, activation='softmax')(layer)\n",
        "\n",
        "model1 = keras.models.Model(layer_in, layer_out)\n",
        "\n",
        "optimizer = keras.optimizers.Adam(learning_rate=0.001)\n",
        "\n",
        "callbacks = [\n",
        "             keras.callbacks.ModelCheckpoint('model.h5', \n",
        "                                             save_best_only=True, \n",
        "                                             monitor='val_loss'),\n",
        "             keras.callbacks.ReduceLROnPlateau(monitor='val_loss', \n",
        "                                               factor=0.1, \n",
        "                                               patience=3,\n",
        "                                               ),\n",
        "             keras.callbacks.EarlyStopping(monitor='val_loss', \n",
        "                                           patience=8,\n",
        "                                           verbose=1)\n",
        "             ]\n",
        "\n",
        "model1.compile(loss='sparse_categorical_crossentropy',\n",
        "              optimizer=optimizer, \n",
        "              metrics=['accuracy'])"
      ],
      "metadata": {
        "id": "qELOFzJJ1gMH"
      },
      "execution_count": 42,
      "outputs": []
    },
    {
      "cell_type": "code",
      "source": [
        "model1.summary()"
      ],
      "metadata": {
        "colab": {
          "base_uri": "https://localhost:8080/"
        },
        "id": "UpX_pBQk1lTi",
        "outputId": "05527e60-8d9c-497f-c5a1-09b01a8a6fb1"
      },
      "execution_count": 43,
      "outputs": [
        {
          "output_type": "stream",
          "name": "stdout",
          "text": [
            "Model: \"model_1\"\n",
            "_________________________________________________________________\n",
            " Layer (type)                Output Shape              Param #   \n",
            "=================================================================\n",
            " input_2 (InputLayer)        [(None, 140, 1)]          0         \n",
            "                                                                 \n",
            " lstm (LSTM)                 (None, 140, 16)           1152      \n",
            "                                                                 \n",
            " dropout_1 (Dropout)         (None, 140, 16)           0         \n",
            "                                                                 \n",
            " gru (GRU)                   (None, 16)                1632      \n",
            "                                                                 \n",
            " dropout_2 (Dropout)         (None, 16)                0         \n",
            "                                                                 \n",
            " dense_2 (Dense)             (None, 32)                544       \n",
            "                                                                 \n",
            " dropout_3 (Dropout)         (None, 32)                0         \n",
            "                                                                 \n",
            " dense_3 (Dense)             (None, 5)                 165       \n",
            "                                                                 \n",
            "=================================================================\n",
            "Total params: 3,493\n",
            "Trainable params: 3,493\n",
            "Non-trainable params: 0\n",
            "_________________________________________________________________\n"
          ]
        }
      ]
    },
    {
      "cell_type": "code",
      "source": [
        "history1 = model1.fit(X_train, y_train,\n",
        "                      batch_size=128, epochs=50, verbose=2,\n",
        "                      validation_data=(X_val, y_val),\n",
        "                      shuffle=True, callbacks=callbacks)"
      ],
      "metadata": {
        "colab": {
          "base_uri": "https://localhost:8080/",
          "height": 1000
        },
        "id": "I4lK7rUq1nlQ",
        "outputId": "150a5508-d936-4963-f84f-6522f6607f5b"
      },
      "execution_count": 44,
      "outputs": [
        {
          "output_type": "stream",
          "name": "stdout",
          "text": [
            "Epoch 1/50\n",
            "155/155 - 31s - loss: 1.4509 - accuracy: 0.3321 - val_loss: 1.1530 - val_accuracy: 0.5324 - lr: 0.0010 - 31s/epoch - 201ms/step\n",
            "Epoch 2/50\n",
            "155/155 - 21s - loss: 1.1475 - accuracy: 0.5053 - val_loss: 0.9822 - val_accuracy: 0.5899 - lr: 0.0010 - 21s/epoch - 135ms/step\n",
            "Epoch 3/50\n",
            "155/155 - 22s - loss: 1.0538 - accuracy: 0.5494 - val_loss: 0.9097 - val_accuracy: 0.6191 - lr: 0.0010 - 22s/epoch - 140ms/step\n",
            "Epoch 4/50\n",
            "155/155 - 19s - loss: 1.0034 - accuracy: 0.5697 - val_loss: 0.8620 - val_accuracy: 0.6227 - lr: 0.0010 - 19s/epoch - 123ms/step\n",
            "Epoch 5/50\n",
            "155/155 - 18s - loss: 0.9426 - accuracy: 0.5963 - val_loss: 0.8054 - val_accuracy: 0.6541 - lr: 0.0010 - 18s/epoch - 116ms/step\n",
            "Epoch 6/50\n",
            "155/155 - 20s - loss: 0.8974 - accuracy: 0.6217 - val_loss: 0.7707 - val_accuracy: 0.6815 - lr: 0.0010 - 20s/epoch - 128ms/step\n",
            "Epoch 7/50\n",
            "155/155 - 22s - loss: 0.8725 - accuracy: 0.6302 - val_loss: 0.7560 - val_accuracy: 0.6782 - lr: 0.0010 - 22s/epoch - 143ms/step\n",
            "Epoch 8/50\n",
            "155/155 - 21s - loss: 0.8468 - accuracy: 0.6378 - val_loss: 0.7123 - val_accuracy: 0.6985 - lr: 0.0010 - 21s/epoch - 136ms/step\n",
            "Epoch 9/50\n",
            "155/155 - 17s - loss: 0.8185 - accuracy: 0.6510 - val_loss: 0.7025 - val_accuracy: 0.7092 - lr: 0.0010 - 17s/epoch - 110ms/step\n",
            "Epoch 10/50\n",
            "155/155 - 17s - loss: 0.8080 - accuracy: 0.6568 - val_loss: 0.6805 - val_accuracy: 0.7124 - lr: 0.0010 - 17s/epoch - 110ms/step\n",
            "Epoch 11/50\n",
            "155/155 - 18s - loss: 0.7983 - accuracy: 0.6647 - val_loss: 0.6597 - val_accuracy: 0.7236 - lr: 0.0010 - 18s/epoch - 119ms/step\n",
            "Epoch 12/50\n",
            "155/155 - 17s - loss: 0.7786 - accuracy: 0.6721 - val_loss: 0.6571 - val_accuracy: 0.7242 - lr: 0.0010 - 17s/epoch - 110ms/step\n",
            "Epoch 13/50\n",
            "155/155 - 18s - loss: 0.7626 - accuracy: 0.6740 - val_loss: 0.6971 - val_accuracy: 0.7134 - lr: 0.0010 - 18s/epoch - 118ms/step\n",
            "Epoch 14/50\n",
            "155/155 - 18s - loss: 0.7562 - accuracy: 0.6770 - val_loss: 0.6322 - val_accuracy: 0.7282 - lr: 0.0010 - 18s/epoch - 118ms/step\n",
            "Epoch 15/50\n",
            "155/155 - 27s - loss: 0.7444 - accuracy: 0.6878 - val_loss: 0.6532 - val_accuracy: 0.7230 - lr: 0.0010 - 27s/epoch - 177ms/step\n",
            "Epoch 16/50\n",
            "155/155 - 24s - loss: 0.7324 - accuracy: 0.6894 - val_loss: 0.6146 - val_accuracy: 0.7440 - lr: 0.0010 - 24s/epoch - 154ms/step\n",
            "Epoch 17/50\n",
            "155/155 - 19s - loss: 0.7251 - accuracy: 0.6937 - val_loss: 0.6943 - val_accuracy: 0.7086 - lr: 0.0010 - 19s/epoch - 122ms/step\n",
            "Epoch 18/50\n",
            "155/155 - 17s - loss: 0.7175 - accuracy: 0.6941 - val_loss: 0.5973 - val_accuracy: 0.7489 - lr: 0.0010 - 17s/epoch - 110ms/step\n",
            "Epoch 19/50\n",
            "155/155 - 17s - loss: 0.7086 - accuracy: 0.6989 - val_loss: 0.6178 - val_accuracy: 0.7311 - lr: 0.0010 - 17s/epoch - 109ms/step\n",
            "Epoch 20/50\n",
            "155/155 - 18s - loss: 0.6943 - accuracy: 0.7087 - val_loss: 0.5665 - val_accuracy: 0.7620 - lr: 0.0010 - 18s/epoch - 118ms/step\n",
            "Epoch 21/50\n",
            "155/155 - 17s - loss: 0.6752 - accuracy: 0.7113 - val_loss: 0.5694 - val_accuracy: 0.7649 - lr: 0.0010 - 17s/epoch - 110ms/step\n",
            "Epoch 22/50\n",
            "155/155 - 17s - loss: 0.6780 - accuracy: 0.7079 - val_loss: 0.6113 - val_accuracy: 0.7434 - lr: 0.0010 - 17s/epoch - 111ms/step\n",
            "Epoch 23/50\n"
          ]
        },
        {
          "output_type": "error",
          "ename": "KeyboardInterrupt",
          "evalue": "ignored",
          "traceback": [
            "\u001b[0;31m---------------------------------------------------------------------------\u001b[0m",
            "\u001b[0;31mKeyboardInterrupt\u001b[0m                         Traceback (most recent call last)",
            "\u001b[0;32m<ipython-input-44-c0fcc8fae205>\u001b[0m in \u001b[0;36m<module>\u001b[0;34m\u001b[0m\n\u001b[0;32m----> 1\u001b[0;31m history1 = model1.fit(X_train, y_train,\n\u001b[0m\u001b[1;32m      2\u001b[0m                       \u001b[0mbatch_size\u001b[0m\u001b[0;34m=\u001b[0m\u001b[0;36m128\u001b[0m\u001b[0;34m,\u001b[0m \u001b[0mepochs\u001b[0m\u001b[0;34m=\u001b[0m\u001b[0;36m50\u001b[0m\u001b[0;34m,\u001b[0m \u001b[0mverbose\u001b[0m\u001b[0;34m=\u001b[0m\u001b[0;36m2\u001b[0m\u001b[0;34m,\u001b[0m\u001b[0;34m\u001b[0m\u001b[0;34m\u001b[0m\u001b[0m\n\u001b[1;32m      3\u001b[0m                       \u001b[0mvalidation_data\u001b[0m\u001b[0;34m=\u001b[0m\u001b[0;34m(\u001b[0m\u001b[0mX_val\u001b[0m\u001b[0;34m,\u001b[0m \u001b[0my_val\u001b[0m\u001b[0;34m)\u001b[0m\u001b[0;34m,\u001b[0m\u001b[0;34m\u001b[0m\u001b[0;34m\u001b[0m\u001b[0m\n\u001b[1;32m      4\u001b[0m                       shuffle=True, callbacks=callbacks)\n",
            "\u001b[0;32m/usr/local/lib/python3.8/dist-packages/keras/utils/traceback_utils.py\u001b[0m in \u001b[0;36merror_handler\u001b[0;34m(*args, **kwargs)\u001b[0m\n\u001b[1;32m     62\u001b[0m     \u001b[0mfiltered_tb\u001b[0m \u001b[0;34m=\u001b[0m \u001b[0;32mNone\u001b[0m\u001b[0;34m\u001b[0m\u001b[0;34m\u001b[0m\u001b[0m\n\u001b[1;32m     63\u001b[0m     \u001b[0;32mtry\u001b[0m\u001b[0;34m:\u001b[0m\u001b[0;34m\u001b[0m\u001b[0;34m\u001b[0m\u001b[0m\n\u001b[0;32m---> 64\u001b[0;31m       \u001b[0;32mreturn\u001b[0m \u001b[0mfn\u001b[0m\u001b[0;34m(\u001b[0m\u001b[0;34m*\u001b[0m\u001b[0margs\u001b[0m\u001b[0;34m,\u001b[0m \u001b[0;34m**\u001b[0m\u001b[0mkwargs\u001b[0m\u001b[0;34m)\u001b[0m\u001b[0;34m\u001b[0m\u001b[0;34m\u001b[0m\u001b[0m\n\u001b[0m\u001b[1;32m     65\u001b[0m     \u001b[0;32mexcept\u001b[0m \u001b[0mException\u001b[0m \u001b[0;32mas\u001b[0m \u001b[0me\u001b[0m\u001b[0;34m:\u001b[0m  \u001b[0;31m# pylint: disable=broad-except\u001b[0m\u001b[0;34m\u001b[0m\u001b[0;34m\u001b[0m\u001b[0m\n\u001b[1;32m     66\u001b[0m       \u001b[0mfiltered_tb\u001b[0m \u001b[0;34m=\u001b[0m \u001b[0m_process_traceback_frames\u001b[0m\u001b[0;34m(\u001b[0m\u001b[0me\u001b[0m\u001b[0;34m.\u001b[0m\u001b[0m__traceback__\u001b[0m\u001b[0;34m)\u001b[0m\u001b[0;34m\u001b[0m\u001b[0;34m\u001b[0m\u001b[0m\n",
            "\u001b[0;32m/usr/local/lib/python3.8/dist-packages/keras/engine/training.py\u001b[0m in \u001b[0;36mfit\u001b[0;34m(self, x, y, batch_size, epochs, verbose, callbacks, validation_split, validation_data, shuffle, class_weight, sample_weight, initial_epoch, steps_per_epoch, validation_steps, validation_batch_size, validation_freq, max_queue_size, workers, use_multiprocessing)\u001b[0m\n\u001b[1;32m   1407\u001b[0m                 _r=1):\n\u001b[1;32m   1408\u001b[0m               \u001b[0mcallbacks\u001b[0m\u001b[0;34m.\u001b[0m\u001b[0mon_train_batch_begin\u001b[0m\u001b[0;34m(\u001b[0m\u001b[0mstep\u001b[0m\u001b[0;34m)\u001b[0m\u001b[0;34m\u001b[0m\u001b[0;34m\u001b[0m\u001b[0m\n\u001b[0;32m-> 1409\u001b[0;31m               \u001b[0mtmp_logs\u001b[0m \u001b[0;34m=\u001b[0m \u001b[0mself\u001b[0m\u001b[0;34m.\u001b[0m\u001b[0mtrain_function\u001b[0m\u001b[0;34m(\u001b[0m\u001b[0miterator\u001b[0m\u001b[0;34m)\u001b[0m\u001b[0;34m\u001b[0m\u001b[0;34m\u001b[0m\u001b[0m\n\u001b[0m\u001b[1;32m   1410\u001b[0m               \u001b[0;32mif\u001b[0m \u001b[0mdata_handler\u001b[0m\u001b[0;34m.\u001b[0m\u001b[0mshould_sync\u001b[0m\u001b[0;34m:\u001b[0m\u001b[0;34m\u001b[0m\u001b[0;34m\u001b[0m\u001b[0m\n\u001b[1;32m   1411\u001b[0m                 \u001b[0mcontext\u001b[0m\u001b[0;34m.\u001b[0m\u001b[0masync_wait\u001b[0m\u001b[0;34m(\u001b[0m\u001b[0;34m)\u001b[0m\u001b[0;34m\u001b[0m\u001b[0;34m\u001b[0m\u001b[0m\n",
            "\u001b[0;32m/usr/local/lib/python3.8/dist-packages/tensorflow/python/util/traceback_utils.py\u001b[0m in \u001b[0;36merror_handler\u001b[0;34m(*args, **kwargs)\u001b[0m\n\u001b[1;32m    148\u001b[0m     \u001b[0mfiltered_tb\u001b[0m \u001b[0;34m=\u001b[0m \u001b[0;32mNone\u001b[0m\u001b[0;34m\u001b[0m\u001b[0;34m\u001b[0m\u001b[0m\n\u001b[1;32m    149\u001b[0m     \u001b[0;32mtry\u001b[0m\u001b[0;34m:\u001b[0m\u001b[0;34m\u001b[0m\u001b[0;34m\u001b[0m\u001b[0m\n\u001b[0;32m--> 150\u001b[0;31m       \u001b[0;32mreturn\u001b[0m \u001b[0mfn\u001b[0m\u001b[0;34m(\u001b[0m\u001b[0;34m*\u001b[0m\u001b[0margs\u001b[0m\u001b[0;34m,\u001b[0m \u001b[0;34m**\u001b[0m\u001b[0mkwargs\u001b[0m\u001b[0;34m)\u001b[0m\u001b[0;34m\u001b[0m\u001b[0;34m\u001b[0m\u001b[0m\n\u001b[0m\u001b[1;32m    151\u001b[0m     \u001b[0;32mexcept\u001b[0m \u001b[0mException\u001b[0m \u001b[0;32mas\u001b[0m \u001b[0me\u001b[0m\u001b[0;34m:\u001b[0m\u001b[0;34m\u001b[0m\u001b[0;34m\u001b[0m\u001b[0m\n\u001b[1;32m    152\u001b[0m       \u001b[0mfiltered_tb\u001b[0m \u001b[0;34m=\u001b[0m \u001b[0m_process_traceback_frames\u001b[0m\u001b[0;34m(\u001b[0m\u001b[0me\u001b[0m\u001b[0;34m.\u001b[0m\u001b[0m__traceback__\u001b[0m\u001b[0;34m)\u001b[0m\u001b[0;34m\u001b[0m\u001b[0;34m\u001b[0m\u001b[0m\n",
            "\u001b[0;32m/usr/local/lib/python3.8/dist-packages/tensorflow/python/eager/def_function.py\u001b[0m in \u001b[0;36m__call__\u001b[0;34m(self, *args, **kwds)\u001b[0m\n\u001b[1;32m    913\u001b[0m \u001b[0;34m\u001b[0m\u001b[0m\n\u001b[1;32m    914\u001b[0m       \u001b[0;32mwith\u001b[0m \u001b[0mOptionalXlaContext\u001b[0m\u001b[0;34m(\u001b[0m\u001b[0mself\u001b[0m\u001b[0;34m.\u001b[0m\u001b[0m_jit_compile\u001b[0m\u001b[0;34m)\u001b[0m\u001b[0;34m:\u001b[0m\u001b[0;34m\u001b[0m\u001b[0;34m\u001b[0m\u001b[0m\n\u001b[0;32m--> 915\u001b[0;31m         \u001b[0mresult\u001b[0m \u001b[0;34m=\u001b[0m \u001b[0mself\u001b[0m\u001b[0;34m.\u001b[0m\u001b[0m_call\u001b[0m\u001b[0;34m(\u001b[0m\u001b[0;34m*\u001b[0m\u001b[0margs\u001b[0m\u001b[0;34m,\u001b[0m \u001b[0;34m**\u001b[0m\u001b[0mkwds\u001b[0m\u001b[0;34m)\u001b[0m\u001b[0;34m\u001b[0m\u001b[0;34m\u001b[0m\u001b[0m\n\u001b[0m\u001b[1;32m    916\u001b[0m \u001b[0;34m\u001b[0m\u001b[0m\n\u001b[1;32m    917\u001b[0m       \u001b[0mnew_tracing_count\u001b[0m \u001b[0;34m=\u001b[0m \u001b[0mself\u001b[0m\u001b[0;34m.\u001b[0m\u001b[0mexperimental_get_tracing_count\u001b[0m\u001b[0;34m(\u001b[0m\u001b[0;34m)\u001b[0m\u001b[0;34m\u001b[0m\u001b[0;34m\u001b[0m\u001b[0m\n",
            "\u001b[0;32m/usr/local/lib/python3.8/dist-packages/tensorflow/python/eager/def_function.py\u001b[0m in \u001b[0;36m_call\u001b[0;34m(self, *args, **kwds)\u001b[0m\n\u001b[1;32m    945\u001b[0m       \u001b[0;31m# In this case we have created variables on the first call, so we run the\u001b[0m\u001b[0;34m\u001b[0m\u001b[0;34m\u001b[0m\u001b[0;34m\u001b[0m\u001b[0m\n\u001b[1;32m    946\u001b[0m       \u001b[0;31m# defunned version which is guaranteed to never create variables.\u001b[0m\u001b[0;34m\u001b[0m\u001b[0;34m\u001b[0m\u001b[0;34m\u001b[0m\u001b[0m\n\u001b[0;32m--> 947\u001b[0;31m       \u001b[0;32mreturn\u001b[0m \u001b[0mself\u001b[0m\u001b[0;34m.\u001b[0m\u001b[0m_stateless_fn\u001b[0m\u001b[0;34m(\u001b[0m\u001b[0;34m*\u001b[0m\u001b[0margs\u001b[0m\u001b[0;34m,\u001b[0m \u001b[0;34m**\u001b[0m\u001b[0mkwds\u001b[0m\u001b[0;34m)\u001b[0m  \u001b[0;31m# pylint: disable=not-callable\u001b[0m\u001b[0;34m\u001b[0m\u001b[0;34m\u001b[0m\u001b[0m\n\u001b[0m\u001b[1;32m    948\u001b[0m     \u001b[0;32melif\u001b[0m \u001b[0mself\u001b[0m\u001b[0;34m.\u001b[0m\u001b[0m_stateful_fn\u001b[0m \u001b[0;32mis\u001b[0m \u001b[0;32mnot\u001b[0m \u001b[0;32mNone\u001b[0m\u001b[0;34m:\u001b[0m\u001b[0;34m\u001b[0m\u001b[0;34m\u001b[0m\u001b[0m\n\u001b[1;32m    949\u001b[0m       \u001b[0;31m# Release the lock early so that multiple threads can perform the call\u001b[0m\u001b[0;34m\u001b[0m\u001b[0;34m\u001b[0m\u001b[0;34m\u001b[0m\u001b[0m\n",
            "\u001b[0;32m/usr/local/lib/python3.8/dist-packages/tensorflow/python/eager/function.py\u001b[0m in \u001b[0;36m__call__\u001b[0;34m(self, *args, **kwargs)\u001b[0m\n\u001b[1;32m   2451\u001b[0m       (graph_function,\n\u001b[1;32m   2452\u001b[0m        filtered_flat_args) = self._maybe_define_function(args, kwargs)\n\u001b[0;32m-> 2453\u001b[0;31m     return graph_function._call_flat(\n\u001b[0m\u001b[1;32m   2454\u001b[0m         filtered_flat_args, captured_inputs=graph_function.captured_inputs)  # pylint: disable=protected-access\n\u001b[1;32m   2455\u001b[0m \u001b[0;34m\u001b[0m\u001b[0m\n",
            "\u001b[0;32m/usr/local/lib/python3.8/dist-packages/tensorflow/python/eager/function.py\u001b[0m in \u001b[0;36m_call_flat\u001b[0;34m(self, args, captured_inputs, cancellation_manager)\u001b[0m\n\u001b[1;32m   1858\u001b[0m         and executing_eagerly):\n\u001b[1;32m   1859\u001b[0m       \u001b[0;31m# No tape is watching; skip to running the function.\u001b[0m\u001b[0;34m\u001b[0m\u001b[0;34m\u001b[0m\u001b[0;34m\u001b[0m\u001b[0m\n\u001b[0;32m-> 1860\u001b[0;31m       return self._build_call_outputs(self._inference_function.call(\n\u001b[0m\u001b[1;32m   1861\u001b[0m           ctx, args, cancellation_manager=cancellation_manager))\n\u001b[1;32m   1862\u001b[0m     forward_backward = self._select_forward_and_backward_functions(\n",
            "\u001b[0;32m/usr/local/lib/python3.8/dist-packages/tensorflow/python/eager/function.py\u001b[0m in \u001b[0;36mcall\u001b[0;34m(self, ctx, args, cancellation_manager)\u001b[0m\n\u001b[1;32m    495\u001b[0m       \u001b[0;32mwith\u001b[0m \u001b[0m_InterpolateFunctionError\u001b[0m\u001b[0;34m(\u001b[0m\u001b[0mself\u001b[0m\u001b[0;34m)\u001b[0m\u001b[0;34m:\u001b[0m\u001b[0;34m\u001b[0m\u001b[0;34m\u001b[0m\u001b[0m\n\u001b[1;32m    496\u001b[0m         \u001b[0;32mif\u001b[0m \u001b[0mcancellation_manager\u001b[0m \u001b[0;32mis\u001b[0m \u001b[0;32mNone\u001b[0m\u001b[0;34m:\u001b[0m\u001b[0;34m\u001b[0m\u001b[0;34m\u001b[0m\u001b[0m\n\u001b[0;32m--> 497\u001b[0;31m           outputs = execute.execute(\n\u001b[0m\u001b[1;32m    498\u001b[0m               \u001b[0mstr\u001b[0m\u001b[0;34m(\u001b[0m\u001b[0mself\u001b[0m\u001b[0;34m.\u001b[0m\u001b[0msignature\u001b[0m\u001b[0;34m.\u001b[0m\u001b[0mname\u001b[0m\u001b[0;34m)\u001b[0m\u001b[0;34m,\u001b[0m\u001b[0;34m\u001b[0m\u001b[0;34m\u001b[0m\u001b[0m\n\u001b[1;32m    499\u001b[0m               \u001b[0mnum_outputs\u001b[0m\u001b[0;34m=\u001b[0m\u001b[0mself\u001b[0m\u001b[0;34m.\u001b[0m\u001b[0m_num_outputs\u001b[0m\u001b[0;34m,\u001b[0m\u001b[0;34m\u001b[0m\u001b[0;34m\u001b[0m\u001b[0m\n",
            "\u001b[0;32m/usr/local/lib/python3.8/dist-packages/tensorflow/python/eager/execute.py\u001b[0m in \u001b[0;36mquick_execute\u001b[0;34m(op_name, num_outputs, inputs, attrs, ctx, name)\u001b[0m\n\u001b[1;32m     52\u001b[0m   \u001b[0;32mtry\u001b[0m\u001b[0;34m:\u001b[0m\u001b[0;34m\u001b[0m\u001b[0;34m\u001b[0m\u001b[0m\n\u001b[1;32m     53\u001b[0m     \u001b[0mctx\u001b[0m\u001b[0;34m.\u001b[0m\u001b[0mensure_initialized\u001b[0m\u001b[0;34m(\u001b[0m\u001b[0;34m)\u001b[0m\u001b[0;34m\u001b[0m\u001b[0;34m\u001b[0m\u001b[0m\n\u001b[0;32m---> 54\u001b[0;31m     tensors = pywrap_tfe.TFE_Py_Execute(ctx._handle, device_name, op_name,\n\u001b[0m\u001b[1;32m     55\u001b[0m                                         inputs, attrs, num_outputs)\n\u001b[1;32m     56\u001b[0m   \u001b[0;32mexcept\u001b[0m \u001b[0mcore\u001b[0m\u001b[0;34m.\u001b[0m\u001b[0m_NotOkStatusException\u001b[0m \u001b[0;32mas\u001b[0m \u001b[0me\u001b[0m\u001b[0;34m:\u001b[0m\u001b[0;34m\u001b[0m\u001b[0;34m\u001b[0m\u001b[0m\n",
            "\u001b[0;31mKeyboardInterrupt\u001b[0m: "
          ]
        }
      ]
    },
    {
      "cell_type": "code",
      "source": [
        "test_loss, test_acc = model1.evaluate(X_test, y_test)\n",
        "print(\"Test accuracy\", test_acc)\n",
        "print(\"Test loss\", test_loss)\n",
        "\n",
        "plot_acc(history1)\n",
        "plot_loss(history1)\n",
        "cm_plot(model1, X_test)"
      ],
      "metadata": {
        "id": "ZglBdlro1t9Y"
      },
      "execution_count": null,
      "outputs": []
    },
    {
      "cell_type": "markdown",
      "source": [
        "### Model 3: GRU model"
      ],
      "metadata": {
        "id": "N2hQdZiY1zeI"
      }
    },
    {
      "cell_type": "code",
      "source": [
        "layer_in = layers.Input(shape=(140,1))\n",
        "layer = layers.Bidirectional(layers.GRU(16, return_sequences=True,))(layer_in)\n",
        "layer = layers.Dropout(0.4)(layer)\n",
        "layer = layers.Bidirectional(layers.GRU(32, return_sequences=False,))(layer)\n",
        "layer = layers.Dropout(0.4)(layer)\n",
        "layer = layers.Dense(32, activation='relu')(layer)\n",
        "layer = layers.Dropout(0.2)(layer)\n",
        "layer_out = layers.Dense(5, activation='softmax')(layer)\n",
        "\n",
        "model2 = keras.models.Model(layer_in, layer_out)\n",
        "\n",
        "optimizer = keras.optimizers.Adam(learning_rate=0.001)\n",
        "\n",
        "callbacks = [\n",
        "             keras.callbacks.ModelCheckpoint('model.h5', \n",
        "                                             save_best_only=True, \n",
        "                                             monitor='val_loss'),\n",
        "             keras.callbacks.ReduceLROnPlateau(monitor='val_loss', \n",
        "                                               factor=0.1, \n",
        "                                               patience=3,\n",
        "                                               ),\n",
        "             keras.callbacks.EarlyStopping(monitor='val_loss', \n",
        "                                           patience=8,\n",
        "                                           verbose=1)\n",
        "             ]\n",
        "\n",
        "model2.compile(loss='sparse_categorical_crossentropy',\n",
        "              optimizer=optimizer, \n",
        "              metrics=['accuracy'])\n"
      ],
      "metadata": {
        "id": "5G_45M3G2FM7"
      },
      "execution_count": null,
      "outputs": []
    },
    {
      "cell_type": "code",
      "source": [
        "model2.summary()"
      ],
      "metadata": {
        "id": "T8IqDQYt2JQs"
      },
      "execution_count": null,
      "outputs": []
    },
    {
      "cell_type": "code",
      "source": [
        "history2 = model2.fit(X_train, y_train,\n",
        "                      batch_size=128, epochs=50, verbose=2,\n",
        "                      validation_data=(X_val, y_val),\n",
        "                      shuffle=True, callbacks=callbacks)"
      ],
      "metadata": {
        "id": "NPJphZm12LiA"
      },
      "execution_count": null,
      "outputs": []
    },
    {
      "cell_type": "code",
      "source": [
        "test_loss, test_acc = model2.evaluate(X_test, y_test)\n",
        "print(\"Test accuracy\", test_acc)\n",
        "print(\"Test loss\", test_loss)\n",
        "\n",
        "plot_acc(history2)\n",
        "plot_loss(history2)\n",
        "cm_plot(model2, X_test)"
      ],
      "metadata": {
        "id": "ZFJjsi5L2Qqu"
      },
      "execution_count": null,
      "outputs": []
    },
    {
      "cell_type": "markdown",
      "source": [
        "### Conv1D + LSTM"
      ],
      "metadata": {
        "id": "YfsRvvYV2t5g"
      }
    },
    {
      "cell_type": "code",
      "source": [
        "layer_in = layers.Input(shape=(140,1))\n",
        "layer = layers.Conv1D(filters=32, kernel_size=8, activation='leaky_relu')(layer_in)\n",
        "layer = layers.MaxPool1D(pool_size=4)(layer)\n",
        "layer = layers.Bidirectional(layers.LSTM(16, return_sequences=False,))(layer)\n",
        "layer = layers.Dropout(0.2)(layer)\n",
        "layer = layers.Dense(32, activation='leaky_relu')(layer)\n",
        "layer = layers.Dropout(0.2)(layer)\n",
        "layer_out = layers.Dense(5, activation='softmax')(layer)\n",
        "\n",
        "model3 = keras.models.Model(layer_in, layer_out)\n",
        "\n",
        "optimizer = keras.optimizers.Adam(learning_rate=0.001)\n",
        "\n",
        "callbacks = [\n",
        "             keras.callbacks.ModelCheckpoint('model.h5', \n",
        "                                             save_best_only=True, \n",
        "                                             monitor='val_loss'),\n",
        "             keras.callbacks.ReduceLROnPlateau(monitor='val_loss', \n",
        "                                               factor=0.1, \n",
        "                                               patience=3,\n",
        "                                               ),\n",
        "             keras.callbacks.EarlyStopping(monitor='val_loss', \n",
        "                                           patience=8,\n",
        "                                           verbose=1)\n",
        "             ]\n",
        "\n",
        "model3.compile(loss='sparse_categorical_crossentropy',\n",
        "              optimizer=optimizer, \n",
        "              metrics=['accuracy'])\n"
      ],
      "metadata": {
        "id": "53s0KLhW2vnZ"
      },
      "execution_count": null,
      "outputs": []
    },
    {
      "cell_type": "code",
      "source": [
        "model3.summary()"
      ],
      "metadata": {
        "id": "TWkRPhYW2yHg"
      },
      "execution_count": null,
      "outputs": []
    },
    {
      "cell_type": "code",
      "source": [
        "history3 = model3.fit(X_train, y_train,\n",
        "                      batch_size=128, epochs=50, verbose=2,\n",
        "                      validation_data=(X_val, y_val),\n",
        "                      shuffle=True, callbacks=callbacks)"
      ],
      "metadata": {
        "id": "lFFKMBEI21gd"
      },
      "execution_count": null,
      "outputs": []
    },
    {
      "cell_type": "code",
      "source": [
        "test_loss, test_acc = model3.evaluate(X_test, y_test)\n",
        "print(\"Test accuracy\", test_acc)\n",
        "print(\"Test loss\", test_loss)\n",
        "\n",
        "plot_acc(history3)\n",
        "plot_loss(history3)\n",
        "cm_plot(model3, X_test)"
      ],
      "metadata": {
        "id": "3iiD7iXs26K4"
      },
      "execution_count": null,
      "outputs": []
    }
  ]
}